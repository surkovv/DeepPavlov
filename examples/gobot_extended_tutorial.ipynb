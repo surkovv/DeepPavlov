{
 "cells": [
  {
   "cell_type": "markdown",
   "metadata": {},
   "source": [
    "### You can also run the notebook in [COLAB](https://colab.research.google.com/github/deepmipt/DeepPavlov/blob/master/examples/gobot_extended_tutorial.ipynb)."
   ]
  },
  {
   "cell_type": "code",
   "execution_count": null,
   "metadata": {},
   "outputs": [],
   "source": [
    "!pip install deeppavlov"
   ]
  },
  {
   "cell_type": "markdown",
   "metadata": {},
   "source": [
    "# Goal-oriented bot in DeepPavlov"
   ]
  },
  {
   "cell_type": "markdown",
   "metadata": {},
   "source": [
    "The tutor is focused on building a goal-oriented dialogue system:\n",
    "\n",
    "0. [Data preparation](#0.-Data-Preparation)\n",
    "1. [Build database of items](#1.-Build-database-of-items)\n",
    "2. [Build Slot Filler](#2.-Build-Slot-Filler)\n",
    "3. [Train bot](#3.-Train-bot)\n",
    "\n",
    "An example of the final model served as a telegram bot is:\n",
    "\n",
    "![gobot_example.png](img/gobot_example.png)"
   ]
  },
  {
   "cell_type": "markdown",
   "metadata": {},
   "source": [
    "## 0. Data Preparation"
   ]
  },
  {
   "cell_type": "markdown",
   "metadata": {},
   "source": [
    "The tutor's dialogue system will be on the domain of restaurant booking. [Dialogue State Tracking Challenge 2 (DSTC-2)](http://camdial.org/~mh521/dstc/) dataset provides dialogues of a human talking to a booking system labelled with slots and dialogue actions. The labels are will be used for training a dialogue policy network.\n",
    "\n",
    "See below a small chunk of the data. "
   ]
  },
  {
   "cell_type": "code",
   "execution_count": 2,
   "metadata": {},
   "outputs": [
    {
     "name": "stderr",
     "output_type": "stream",
     "text": [
      "2019-09-05 20:02:11.725 INFO in 'deeppavlov.dataset_readers.dstc2_reader'['dstc2_reader'] at line 269: [PosixPath('my_data/simple-dstc2-val.json'), PosixPath('my_data/simple-dstc2-tst.json')]]\n",
      "2019-09-05 20:02:11.725 INFO in 'deeppavlov.dataset_readers.dstc2_reader'['dstc2_reader'] at line 270: [downloading data from http://files.deeppavlov.ai/datasets/simple_dstc2.tar.gz to my_data]\n",
      "2019-09-05 20:02:11.775 INFO in 'deeppavlov.core.data.utils'['utils'] at line 63: Downloading from http://files.deeppavlov.ai/datasets/simple_dstc2.tar.gz to my_data/simple_dstc2.tar.gz\n",
      "100%|██████████| 497k/497k [00:00<00:00, 44.6MB/s]\n",
      "2019-09-05 20:02:11.816 INFO in 'deeppavlov.core.data.utils'['utils'] at line 201: Extracting my_data/simple_dstc2.tar.gz archive into my_data\n",
      "2019-09-05 20:02:11.841 INFO in 'deeppavlov.dataset_readers.dstc2_reader'['dstc2_reader'] at line 290: [loading dialogs from my_data/simple-dstc2-trn.json]\n",
      "2019-09-05 20:02:11.892 INFO in 'deeppavlov.dataset_readers.dstc2_reader'['dstc2_reader'] at line 290: [loading dialogs from my_data/simple-dstc2-val.json]\n",
      "2019-09-05 20:02:11.959 INFO in 'deeppavlov.dataset_readers.dstc2_reader'['dstc2_reader'] at line 290: [loading dialogs from my_data/simple-dstc2-tst.json]\n",
      "2019-09-05 20:02:12.36 INFO in 'deeppavlov.dataset_readers.dstc2_reader'['dstc2_reader'] at line 282: There are 9115 samples in train split.\n",
      "2019-09-05 20:02:12.37 INFO in 'deeppavlov.dataset_readers.dstc2_reader'['dstc2_reader'] at line 283: There are 6231 samples in valid split.\n",
      "2019-09-05 20:02:12.37 INFO in 'deeppavlov.dataset_readers.dstc2_reader'['dstc2_reader'] at line 284: There are 6345 samples in test split.\n"
     ]
    }
   ],
   "source": [
    "from deeppavlov.dataset_readers.dstc2_reader import SimpleDSTC2DatasetReader\n",
    "\n",
    "data = SimpleDSTC2DatasetReader().read('my_data')"
   ]
  },
  {
   "cell_type": "code",
   "execution_count": 3,
   "metadata": {},
   "outputs": [
    {
     "name": "stdout",
     "output_type": "stream",
     "text": [
      "simple-dstc2-templates.txt  simple-dstc2-tst.json\r\n",
      "simple-dstc2-trn.json\t    simple-dstc2-val.json\r\n"
     ]
    }
   ],
   "source": [
    "!ls my_data"
   ]
  },
  {
   "cell_type": "markdown",
   "metadata": {},
   "source": [
    "The training/validation/test data is stored in json files (`simple-dstc2-trn.json`, `simple-dstc2-val.json` and `simple-dstc2-tst.json`):"
   ]
  },
  {
   "cell_type": "code",
   "execution_count": 4,
   "metadata": {},
   "outputs": [
    {
     "name": "stdout",
     "output_type": "stream",
     "text": [
      "[\r\n",
      "  [\r\n",
      "    {\r\n",
      "      \"speaker\": 2,\r\n",
      "      \"text\": \"Hello, welcome to the Cambridge restaurant system. You can ask for restaurants by area, price range or food type. How may I help you?\",\r\n",
      "      \"slots\": [],\r\n",
      "      \"act\": \"welcomemsg\"\r\n",
      "    },\r\n",
      "    {\r\n",
      "      \"speaker\": 1,\r\n",
      "      \"text\": \"cheap restaurant\",\r\n",
      "      \"slots\": [\r\n",
      "        [\r\n",
      "          \"pricerange\",\r\n",
      "          \"cheap\"\r\n",
      "        ]\r\n",
      "      ]\r\n",
      "    },\r\n",
      "    {\r\n",
      "      \"speaker\": 2,\r\n",
      "      \"text\": \"What kind of food would you like?\",\r\n",
      "      \"slots\": [],\r\n",
      "      \"act\": \"request_food\"\r\n",
      "    },\r\n",
      "    {\r\n",
      "      \"speaker\": 1,\r\n",
      "      \"text\": \"any\",\r\n",
      "      \"slots\": [\r\n",
      "        [\r\n",
      "          \"this\",\r\n",
      "          \"dontcare\"\r\n",
      "        ]\r\n",
      "      ]\r\n",
      "    },\r\n",
      "    {\r\n",
      "      \"speaker\": 2,\r\n",
      "      \"text\": \"What part of town do you have in mind?\",\r\n",
      "      \"slots\": [],\r\n",
      "      \"act\": \"request_area\"\r\n",
      "    },\r\n",
      "    {\r\n",
      "      \"speaker\": 1,\r\n",
      "      \"text\": \"south\",\r\n",
      "      \"slots\": [\r\n",
      "        [\r\n",
      "          \"area\",\r\n",
      "          \"south\"\r\n",
      "        ]\r\n",
      "      ]\r\n",
      "    },\r\n",
      "    {\r\n",
      "      \"speaker\": 2,\r\n",
      "      \"text\": \"api_call area=\\\"south\\\" food=\\\"dontcare\\\" pricerange=\\\"cheap\\\"\",\r\n",
      "      \"db_result\": {\r\n",
      "        \"food\": \"chinese\",\r\n",
      "        \"pricerange\": \"cheap\",\r\n",
      "        \"area\": \"south\",\r\n",
      "        \"addr\": \"cambridge leisure park clifton way cherry hinton\",\r\n",
      "        \"phone\": \"01223 244277\",\r\n",
      "        \"postcode\": \"c.b 1, 7 d.y\",\r\n",
      "        \"name\": \"the lucky star\"\r\n",
      "      },\r\n",
      "      \"slots\": [\r\n",
      "        [\r\n",
      "          \"area\",\r\n",
      "          \"south\"\r\n",
      "        ],\r\n",
      "        [\r\n",
      "          \"pricerange\",\r\n",
      "          \"cheap\"\r\n",
      "        ],\r\n",
      "        [\r\n",
      "          \"food\",\r\n",
      "          \"dontcare\"\r\n",
      "        ]\r\n",
      "      ],\r\n",
      "      \"act\": \"api_call\"\r\n",
      "    },\r\n",
      "    {\r\n",
      "      \"speaker\": 2,\r\n",
      "      \"text\": \"The lucky star is a nice place in the south of town serving tasty chinese food.\",\r\n",
      "      \"slots\": [\r\n",
      "        [\r\n",
      "          \"area\",\r\n",
      "          \"south\"\r\n",
      "        ],\r\n",
      "        [\r\n",
      "          \"pricerange\",\r\n",
      "          \"cheap\"\r\n",
      "        ],\r\n",
      "        [\r\n",
      "          \"name\",\r\n",
      "          \"the lucky star\"\r\n",
      "        ],\r\n",
      "        [\r\n",
      "          \"food\",\r\n",
      "          \"chinese\"\r\n",
      "        ]\r\n",
      "      ],\r\n",
      "      \"act\": \"inform_area+inform_food+offer_name\"\r\n",
      "    },\r\n"
     ]
    }
   ],
   "source": [
    "!head -n 101 my_data/simple-dstc2-trn.json"
   ]
  },
  {
   "cell_type": "code",
   "execution_count": 5,
   "metadata": {
    "scrolled": true
   },
   "outputs": [],
   "source": [
    "from deeppavlov.dataset_iterators.dialog_iterator import DialogDatasetIterator\n",
    "\n",
    "iterator = DialogDatasetIterator(data)"
   ]
  },
  {
   "cell_type": "markdown",
   "metadata": {},
   "source": [
    "You can now iterate over batches of preprocessed DSTC-2 dialogs:"
   ]
  },
  {
   "cell_type": "code",
   "execution_count": 6,
   "metadata": {},
   "outputs": [
    {
     "name": "stdout",
     "output_type": "stream",
     "text": [
      "User utterances:\n",
      "----------------\n",
      "\n",
      "[   {'prev_resp_act': None, 'text': ''},\n",
      "    {'prev_resp_act': 'welcomemsg', 'text': 'sil'},\n",
      "    {   'prev_resp_act': 'request_area',\n",
      "        'slots': [['area', 'east']],\n",
      "        'text': 'east'},\n",
      "    {   'db_result': {   'addr': '71 castle street city centre',\n",
      "                         'area': 'west',\n",
      "                         'food': 'indian',\n",
      "                         'name': 'cocum',\n",
      "                         'phone': '01223 366668',\n",
      "                         'postcode': 'c.b 3, 0 a.h',\n",
      "                         'pricerange': 'expensive'},\n",
      "        'prev_resp_act': 'api_call',\n",
      "        'slots': [['area', 'east']],\n",
      "        'text': 'east'},\n",
      "    {   'prev_resp_act': 'offer_name',\n",
      "        'slots': [['pricerange', 'expensive']],\n",
      "        'text': 'expensive restaurant'},\n",
      "    {   'prev_resp_act': 'inform_pricerange+offer_name',\n",
      "        'slots': [['slot', 'addr']],\n",
      "        'text': 'whats the address'},\n",
      "    {   'prev_resp_act': 'inform_addr+offer_name',\n",
      "        'slots': [['slot', 'phone']],\n",
      "        'text': 'phone number'},\n",
      "    {   'prev_resp_act': 'inform_phone+offer_name',\n",
      "        'slots': [['slot', 'postcode']],\n",
      "        'text': 'whats the post code'},\n",
      "    {   'prev_resp_act': 'inform_postcode+offer_name',\n",
      "        'text': 'thank you good bye'}]\n",
      "\n",
      "System responses:\n",
      "-----------------\n",
      "\n",
      "[   {   'act': 'welcomemsg',\n",
      "        'text': 'Hello, welcome to the Cambridge restaurant system. You can '\n",
      "                'ask for restaurants by area, price range or food type. How '\n",
      "                'may I help you?'},\n",
      "    {'act': 'request_area', 'text': 'What part of town do you have in mind?'},\n",
      "    {   'act': 'api_call',\n",
      "        'slots': [['area', 'east']],\n",
      "        'text': 'api_call area=\"east\" food=\"dontcare\" pricerange=\"dontcare\"'},\n",
      "    {   'act': 'offer_name',\n",
      "        'slots': [['name', 'cocum']],\n",
      "        'text': 'Cocum is a great restaurant.'},\n",
      "    {   'act': 'inform_pricerange+offer_name',\n",
      "        'slots': [['name', 'cocum'], ['pricerange', 'expensive']],\n",
      "        'text': 'The price range at cocum is expensive.'},\n",
      "    {   'act': 'inform_addr+offer_name',\n",
      "        'slots': [['name', 'cocum'], ['addr', '71 castle street city centre']],\n",
      "        'text': 'Sure, cocum is on 71 Castle Street City Centre.'},\n",
      "    {   'act': 'inform_phone+offer_name',\n",
      "        'slots': [['name', 'cocum'], ['phone', '01223 366668']],\n",
      "        'text': 'The phone number of cocum is 01223 366668.'},\n",
      "    {   'act': 'inform_postcode+offer_name',\n",
      "        'slots': [['postcode', 'c.b 3, 0 a.h'], ['name', 'cocum']],\n",
      "        'text': 'The post code of cocum is C.B 3, 0 A.H.'},\n",
      "    {'act': 'bye', 'text': 'You are welcome!'}]\n"
     ]
    }
   ],
   "source": [
    "from pprint import pprint\n",
    "\n",
    "for dialog in iterator.gen_batches(batch_size=1, data_type='train'):\n",
    "    turns_x, turns_y = dialog\n",
    "    \n",
    "    print(\"User utterances:\\n----------------\\n\")\n",
    "    pprint(turns_x[0], indent=4)\n",
    "    print(\"\\nSystem responses:\\n-----------------\\n\")\n",
    "    pprint(turns_y[0], indent=4)\n",
    "    \n",
    "    break"
   ]
  },
  {
   "cell_type": "code",
   "execution_count": 7,
   "metadata": {},
   "outputs": [],
   "source": [
    "!cp my_data/simple-dstc2-trn.json my_data/simple-dstc2-trn.full.json"
   ]
  },
  {
   "cell_type": "code",
   "execution_count": 8,
   "metadata": {},
   "outputs": [
    {
     "name": "stdout",
     "output_type": "stream",
     "text": [
      "Train set is reduced to 50 dialogues (out of 967).\n"
     ]
    }
   ],
   "source": [
    "import json\n",
    "\n",
    "NUM_TRAIN = 50\n",
    "\n",
    "with open('my_data/simple-dstc2-trn.full.json', 'rt') as fin:\n",
    "    data = json.load(fin)\n",
    "with open('my_data/simple-dstc2-trn.json', 'wt') as fout:\n",
    "    json.dump(data[:NUM_TRAIN], fout, indent=2)\n",
    "print(f\"Train set is reduced to {NUM_TRAIN} dialogues (out of {len(data)}).\")"
   ]
  },
  {
   "cell_type": "markdown",
   "metadata": {},
   "source": [
    "## 1. Build database of items"
   ]
  },
  {
   "cell_type": "markdown",
   "metadata": {},
   "source": [
    "&nbsp;\n",
    "![gobot_database.png](img/gobot_database.png)\n",
    "&nbsp;"
   ]
  },
  {
   "cell_type": "markdown",
   "metadata": {},
   "source": [
    "For a valid goal-oriented bot there should be a `database` of relevant items. In the case of restaurant booking it will contain all available restaurants and their info.\n",
    "\n",
    "    >> database([{'pricerange': 'cheap', 'area': 'south'}])\n",
    "    \n",
    "    Out[1]: \n",
    "        [[{'name': 'the lucky star',\n",
    "           'food': 'chinese',\n",
    "           'pricerange': 'cheap',\n",
    "           'area': 'south',\n",
    "           'addr': 'cambridge leisure park clifton way cherry hinton',\n",
    "           'phone': '01223 244277',\n",
    "           'postcode': 'c.b 1, 7 d.y'},\n",
    "          {'name': 'nandos',\n",
    "           'food': 'portuguese',\n",
    "           'pricerange': 'cheap',\n",
    "           'area': 'south',\n",
    "           'addr': 'cambridge leisure park clifton way',\n",
    "           'phone': '01223 327908',\n",
    "           'postcode': 'c.b 1, 7 d.y'}]]\n",
    "           \n",
    "The dialogues in the training dataset should contain a `\"db_result\"` dictionary key. It is required for turns where system performs a special type of external action: an api call to the database of items. `\"db_result\"` should contain the result of the api call:"
   ]
  },
  {
   "cell_type": "code",
   "execution_count": 9,
   "metadata": {},
   "outputs": [
    {
     "name": "stdout",
     "output_type": "stream",
     "text": [
      "    {\r\n",
      "      \"speaker\": 2,\r\n",
      "      \"text\": \"api_call area=\\\"south\\\" food=\\\"dontcare\\\" pricerange=\\\"cheap\\\"\",\r\n",
      "      \"db_result\": {\r\n",
      "        \"food\": \"chinese\",\r\n",
      "        \"pricerange\": \"cheap\",\r\n",
      "        \"area\": \"south\",\r\n",
      "        \"addr\": \"cambridge leisure park clifton way cherry hinton\",\r\n",
      "        \"phone\": \"01223 244277\",\r\n",
      "        \"postcode\": \"c.b 1, 7 d.y\",\r\n",
      "        \"name\": \"the lucky star\"\r\n",
      "      },\r\n",
      "      \"slots\": [\r\n",
      "        [\r\n",
      "          \"area\",\r\n",
      "          \"south\"\r\n",
      "        ],\r\n",
      "        [\r\n",
      "          \"pricerange\",\r\n",
      "          \"cheap\"\r\n",
      "        ],\r\n",
      "        [\r\n",
      "          \"food\",\r\n",
      "          \"dontcare\"\r\n",
      "        ]\r\n",
      "      ],\r\n",
      "      \"act\": \"api_call\"\r\n",
      "    },\r\n"
     ]
    }
   ],
   "source": [
    "!head -n 78 my_data/simple-dstc2-trn.json | tail +51"
   ]
  },
  {
   "cell_type": "code",
   "execution_count": 10,
   "metadata": {},
   "outputs": [
    {
     "name": "stderr",
     "output_type": "stream",
     "text": [
      "2019-09-05 20:02:20.149 WARNING in 'deeppavlov.core.models.serializable'['serializable'] at line 47: No load path is set for Sqlite3Database in 'infer' mode. Using save path instead\n",
      "2019-09-05 20:02:20.150 INFO in 'deeppavlov.core.data.sqlite_database'['sqlite_database'] at line 70: Initializing empty database on /home/vimary/code-projects/Pilot/examples/my_bot/db.sqlite.\n"
     ]
    }
   ],
   "source": [
    "from deeppavlov.core.data.sqlite_database import Sqlite3Database\n",
    "\n",
    "database = Sqlite3Database(primary_keys=[\"name\"],\n",
    "                           save_path=\"my_bot/db.sqlite\")"
   ]
  },
  {
   "cell_type": "markdown",
   "metadata": {},
   "source": [
    "Set `primary_keys` to a list of slot names that have unique values for different items (common SQL term). For the case of DSTC-2, the primary slot is restaurant name.\n",
    "\n",
    "Let's find all `\"db_result\"` api call results and add it to our database of restaurants:"
   ]
  },
  {
   "cell_type": "code",
   "execution_count": 11,
   "metadata": {},
   "outputs": [
    {
     "name": "stderr",
     "output_type": "stream",
     "text": [
      "2019-09-05 20:02:21.186 INFO in 'deeppavlov.core.data.sqlite_database'['sqlite_database'] at line 145: Created table with keys {'phone': 'text', 'name': 'text', 'food': 'text', 'area': 'text', 'addr': 'text', 'postcode': 'text', 'pricerange': 'text'}.\n"
     ]
    },
    {
     "name": "stdout",
     "output_type": "stream",
     "text": [
      "Adding 3016 items.\n"
     ]
    }
   ],
   "source": [
    "db_results = []\n",
    "\n",
    "for dialog in iterator.gen_batches(batch_size=1, data_type='all'):\n",
    "    turns_x, turns_y = dialog\n",
    "    db_results.extend(x['db_result'] for x in turns_x[0] if x.get('db_result'))\n",
    "\n",
    "print(f\"Adding {len(db_results)} items.\")\n",
    "if db_results:\n",
    "    database.fit(db_results)"
   ]
  },
  {
   "cell_type": "markdown",
   "metadata": {},
   "source": [
    "##### Interacting with database"
   ]
  },
  {
   "cell_type": "markdown",
   "metadata": {},
   "source": [
    "We can now play with the database and make requests to it:"
   ]
  },
  {
   "cell_type": "code",
   "execution_count": 12,
   "metadata": {},
   "outputs": [
    {
     "data": {
      "text/plain": [
       "[[{'phone': '01223 327908',\n",
       "   'name': 'nandos',\n",
       "   'food': 'portuguese',\n",
       "   'area': 'south',\n",
       "   'addr': 'cambridge leisure park clifton way',\n",
       "   'postcode': 'c.b 1, 7 d.y',\n",
       "   'pricerange': 'cheap'},\n",
       "  {'phone': '01223 244277',\n",
       "   'name': 'the lucky star',\n",
       "   'food': 'chinese',\n",
       "   'area': 'south',\n",
       "   'addr': 'cambridge leisure park clifton way cherry hinton',\n",
       "   'postcode': 'c.b 1, 7 d.y',\n",
       "   'pricerange': 'cheap'}]]"
      ]
     },
     "execution_count": 12,
     "metadata": {},
     "output_type": "execute_result"
    }
   ],
   "source": [
    "database([{'pricerange': 'cheap', 'area': 'south'}])"
   ]
  },
  {
   "cell_type": "code",
   "execution_count": 13,
   "metadata": {},
   "outputs": [
    {
     "name": "stdout",
     "output_type": "stream",
     "text": [
      "db.sqlite\r\n"
     ]
    }
   ],
   "source": [
    "!ls my_bot"
   ]
  },
  {
   "cell_type": "markdown",
   "metadata": {},
   "source": [
    "## 2. Build Slot Filler"
   ]
  },
  {
   "cell_type": "markdown",
   "metadata": {},
   "source": [
    "&nbsp;\n",
    "![gobot_slotfiller.png](img/gobot_slotfiller.png)\n",
    "&nbsp;"
   ]
  },
  {
   "cell_type": "markdown",
   "metadata": {},
   "source": [
    "Slot Filler is component that inputs text and outputs dictionary of slot names and their values:\n",
    "\n",
    "    >> slot_filler(['I would like some chineese food'])\n",
    "    \n",
    "    Out[1]: [{'food': 'chinese'}]\n",
    "\n",
    "To implement a slot filler you need to provide\n",
    "    \n",
    " - **slot types**\n",
    " - all possible **slot values**\n",
    " - optionally, it will be good to provide examples of mentions for every value of each slot\n",
    " \n",
    "The data should be in `slot_vals.json` file with the following format:\n",
    "\n",
    "    {\n",
    "        'food': {\n",
    "            'chinese': ['chinese', 'chineese', 'chines'],\n",
    "            'french': ['french', 'freench'],\n",
    "            'dontcare': ['any food', 'any type of food']\n",
    "        }\n",
    "    }\n",
    "                \n",
    "\n",
    "Let's use a simple non-trainable slot filler that relies on levenshtein distance:"
   ]
  },
  {
   "cell_type": "code",
   "execution_count": 14,
   "metadata": {},
   "outputs": [
    {
     "name": "stderr",
     "output_type": "stream",
     "text": [
      "2019-09-05 20:02:24.861 INFO in 'deeppavlov.core.data.utils'['utils'] at line 63: Downloading from http://files.deeppavlov.ai/deeppavlov_data/dstc_slot_vals.tar.gz to my_bot/slotfill/dstc_slot_vals.tar.gz\n",
      "100%|██████████| 1.62k/1.62k [00:00<00:00, 9.89MB/s]\n",
      "2019-09-05 20:02:24.862 INFO in 'deeppavlov.core.data.utils'['utils'] at line 201: Extracting my_bot/slotfill/dstc_slot_vals.tar.gz archive into my_bot/slotfill\n"
     ]
    }
   ],
   "source": [
    "from deeppavlov.download import download_decompress\n",
    "\n",
    "download_decompress(url='http://files.deeppavlov.ai/deeppavlov_data/dstc_slot_vals.tar.gz',\n",
    "                    download_path='my_bot/slotfill')"
   ]
  },
  {
   "cell_type": "code",
   "execution_count": 15,
   "metadata": {},
   "outputs": [
    {
     "name": "stdout",
     "output_type": "stream",
     "text": [
      "dstc_slot_vals.json\r\n"
     ]
    }
   ],
   "source": [
    "!ls my_bot/slotfill"
   ]
  },
  {
   "cell_type": "code",
   "execution_count": 16,
   "metadata": {},
   "outputs": [
    {
     "name": "stdout",
     "output_type": "stream",
     "text": [
      "{\r\n",
      "    \"food\": {\r\n",
      "        \"caribbean\": [\r\n",
      "            \"carraibean\",\r\n",
      "            \"carribean\",\r\n",
      "            \"caribbean\"\r\n",
      "        ],\r\n",
      "        \"kosher\": [\r\n",
      "            \"kosher\"\r\n",
      "        ],\r\n"
     ]
    }
   ],
   "source": [
    "!head -n 10 my_bot/slotfill/dstc_slot_vals.json"
   ]
  },
  {
   "cell_type": "markdown",
   "metadata": {},
   "source": [
    "##### Metric scores on valid&test"
   ]
  },
  {
   "cell_type": "markdown",
   "metadata": {},
   "source": [
    "Let's check performance of our slot filler on DSTC-2 dataset:"
   ]
  },
  {
   "cell_type": "code",
   "execution_count": 17,
   "metadata": {},
   "outputs": [],
   "source": [
    "from deeppavlov import configs\n",
    "from deeppavlov.core.common.file import read_json\n",
    "\n",
    "slotfill_config = read_json(configs.ner.slotfill_simple_dstc2_raw)"
   ]
  },
  {
   "cell_type": "markdown",
   "metadata": {},
   "source": [
    "We take [original DSTC2 slot-filling config](https://github.com/deepmipt/DeepPavlov/blob/master/deeppavlov/configs/ner/slotfill_dstc2_raw.json) and change variables determining data paths:"
   ]
  },
  {
   "cell_type": "code",
   "execution_count": 18,
   "metadata": {},
   "outputs": [],
   "source": [
    "slotfill_config['metadata']['variables']['DATA_PATH'] = 'my_data'\n",
    "slotfill_config['metadata']['variables']['SLOT_VALS_PATH'] = 'my_bot/slotfill/dstc_slot_vals.json'"
   ]
  },
  {
   "cell_type": "code",
   "execution_count": 19,
   "metadata": {},
   "outputs": [
    {
     "name": "stderr",
     "output_type": "stream",
     "text": [
      "2019-09-05 20:02:29.358 INFO in 'deeppavlov.dataset_readers.dstc2_reader'['dstc2_reader'] at line 290: [loading dialogs from /home/vimary/code-projects/Pilot/examples/my_data/simple-dstc2-trn.json]\n",
      "2019-09-05 20:02:29.363 INFO in 'deeppavlov.dataset_readers.dstc2_reader'['dstc2_reader'] at line 290: [loading dialogs from /home/vimary/code-projects/Pilot/examples/my_data/simple-dstc2-val.json]\n",
      "2019-09-05 20:02:29.449 INFO in 'deeppavlov.dataset_readers.dstc2_reader'['dstc2_reader'] at line 290: [loading dialogs from /home/vimary/code-projects/Pilot/examples/my_data/simple-dstc2-tst.json]\n",
      "2019-09-05 20:02:29.537 INFO in 'deeppavlov.dataset_readers.dstc2_reader'['dstc2_reader'] at line 282: There are 479 samples in train split.\n",
      "2019-09-05 20:02:29.537 INFO in 'deeppavlov.dataset_readers.dstc2_reader'['dstc2_reader'] at line 283: There are 6231 samples in valid split.\n",
      "2019-09-05 20:02:29.538 INFO in 'deeppavlov.dataset_readers.dstc2_reader'['dstc2_reader'] at line 284: There are 6345 samples in test split.\n",
      "[nltk_data] Downloading package punkt to /home/vimary/nltk_data...\n",
      "[nltk_data]   Package punkt is already up-to-date!\n",
      "[nltk_data] Downloading package stopwords to /home/vimary/nltk_data...\n",
      "[nltk_data]   Package stopwords is already up-to-date!\n",
      "[nltk_data] Downloading package perluniprops to\n",
      "[nltk_data]     /home/vimary/nltk_data...\n",
      "[nltk_data]   Package perluniprops is already up-to-date!\n",
      "[nltk_data] Downloading package nonbreaking_prefixes to\n",
      "[nltk_data]     /home/vimary/nltk_data...\n",
      "[nltk_data]   Package nonbreaking_prefixes is already up-to-date!\n"
     ]
    },
    {
     "name": "stdout",
     "output_type": "stream",
     "text": [
      "{\"valid\": {\"eval_examples_count\": 1444, \"metrics\": {\"slots_accuracy\": 0.9307}, \"time_spent\": \"0:00:27\"}}\n",
      "{\"test\": {\"eval_examples_count\": 1386, \"metrics\": {\"slots_accuracy\": 0.9481}, \"time_spent\": \"0:00:25\"}}\n"
     ]
    }
   ],
   "source": [
    "from deeppavlov import evaluate_model\n",
    "\n",
    "slotfill = evaluate_model(slotfill_config);"
   ]
  },
  {
   "cell_type": "markdown",
   "metadata": {},
   "source": [
    "We've got slot accuracy of **93% on valid** set and **94% on test** set."
   ]
  },
  {
   "cell_type": "markdown",
   "metadata": {},
   "source": [
    "##### Interacting with slot filler"
   ]
  },
  {
   "cell_type": "code",
   "execution_count": 20,
   "metadata": {},
   "outputs": [],
   "source": [
    "from deeppavlov import build_model\n",
    "\n",
    "slotfill = build_model(slotfill_config)"
   ]
  },
  {
   "cell_type": "code",
   "execution_count": 21,
   "metadata": {},
   "outputs": [
    {
     "data": {
      "text/plain": [
       "[{'food': 'chinese', 'pricerange': 'cheap'}]"
      ]
     },
     "execution_count": 21,
     "metadata": {},
     "output_type": "execute_result"
    }
   ],
   "source": [
    "slotfill(['i want cheap chinee food'])"
   ]
  },
  {
   "cell_type": "markdown",
   "metadata": {},
   "source": [
    "##### Dumping slot filler's config"
   ]
  },
  {
   "cell_type": "markdown",
   "metadata": {},
   "source": [
    "Saving slotfill config file to disk (we will require it's path later):"
   ]
  },
  {
   "cell_type": "code",
   "execution_count": 22,
   "metadata": {},
   "outputs": [],
   "source": [
    "import json\n",
    "\n",
    "json.dump(slotfill_config, open('my_bot/slotfill_config.json', 'wt'))"
   ]
  },
  {
   "cell_type": "code",
   "execution_count": 23,
   "metadata": {},
   "outputs": [
    {
     "name": "stdout",
     "output_type": "stream",
     "text": [
      "db.sqlite  slotfill  slotfill_config.json\r\n"
     ]
    }
   ],
   "source": [
    "!ls my_bot"
   ]
  },
  {
   "cell_type": "markdown",
   "metadata": {},
   "source": [
    "## 3. Train bot"
   ]
  },
  {
   "cell_type": "markdown",
   "metadata": {},
   "source": [
    "Let's assemble all modules together and train the final module: dialogue policy network.\n",
    "\n",
    "&nbsp;\n",
    "![gobot_policy.png](img/gobot_policy.png)\n",
    "&nbsp;\n",
    "\n",
    "Policy network decides which action the system should take on each turn of a dialogue: should it say goodbye, request user's location or make api call to a database.\n",
    "\n",
    "The policy network is a recurrent neural network (recurrent over utterances represented as bags of words) and a dense layer with softmax function on top. The network classifies user utterance into one of predefined system actions.\n",
    "\n",
    "&nbsp;\n",
    "![gobot_templates.png](img/gobot_templates.png)\n",
    "&nbsp;\n",
    "\n",
    "All actions available for the system should be listed in a `simple-dstc2-templates.txt` file. Each action should be associated with a string of the corresponding system response.\n",
    "\n",
    "Templates should be in the format `<act>TAB<template>`, where `<act>` is a dialogue action and `<template>` is the corresponding response. Response text might contain slot type names, where every `#slot_type` will be filled with the slot value from a dialogue state."
   ]
  },
  {
   "cell_type": "code",
   "execution_count": 24,
   "metadata": {},
   "outputs": [
    {
     "name": "stdout",
     "output_type": "stream",
     "text": [
      "api_call\tapi_call area=\"#area\" food=\"#food\" pricerange=\"#pricerange\"\r\n",
      "bye\tYou are welcome!\r\n",
      "canthear\tSorry, I can't hear you.\r\n",
      "canthelp_area\tI'm sorry but there is no #area american restaurant in the #area of town.\r\n",
      "canthelp_area_food\tSorry there is no #food restaurant in the #area of town.\r\n",
      "canthelp_area_food_pricerange\tSorry there is no #pricerange restaurant in the #area of town serving #food food.\r\n",
      "canthelp_area_pricerange\tSorry there is no #pricerange restaurant in the #area of town serving #area american food.\r\n",
      "canthelp_food\tI am sorry but there is no #food restaurant that matches your request.\r\n",
      "canthelp_food_pricerange\tSorry there is no #food restaurant in the #pricerange price range.\r\n",
      "confirm-domain\tYou are looking for a restaurant is that right?\r\n"
     ]
    }
   ],
   "source": [
    "!head -n 10 my_data/simple-dstc2-templates.txt"
   ]
  },
  {
   "cell_type": "markdown",
   "metadata": {},
   "source": [
    "So, actions are actually classes we classify over. And `simple-dstc2-templates.txt` contains the set of classes.\n",
    "\n",
    "To train the dialogue policy network for classification task you need action label for each system utterance in training dialogues. The DSTC-2 contains `\"act\"` dictionary key that contains action associated with current response.\n",
    "\n",
    "The cell below provides an example of training data for the policy network."
   ]
  },
  {
   "cell_type": "code",
   "execution_count": 25,
   "metadata": {},
   "outputs": [
    {
     "name": "stdout",
     "output_type": "stream",
     "text": [
      "[\r\n",
      "  [\r\n",
      "    {\r\n",
      "      \"speaker\": 2,\r\n",
      "      \"text\": \"Hello, welcome to the Cambridge restaurant system. You can ask for restaurants by area, price range or food type. How may I help you?\",\r\n",
      "      \"slots\": [],\r\n",
      "      \"act\": \"welcomemsg\"\r\n",
      "    },\r\n",
      "    {\r\n",
      "      \"speaker\": 1,\r\n",
      "      \"text\": \"cheap restaurant\",\r\n",
      "      \"slots\": [\r\n",
      "        [\r\n",
      "          \"pricerange\",\r\n",
      "          \"cheap\"\r\n",
      "        ]\r\n",
      "      ]\r\n",
      "    },\r\n",
      "    {\r\n",
      "      \"speaker\": 2,\r\n",
      "      \"text\": \"What kind of food would you like?\",\r\n",
      "      \"slots\": [],\r\n",
      "      \"act\": \"request_food\"\r\n",
      "    },\r\n"
     ]
    }
   ],
   "source": [
    "!head -n 24 my_data/simple-dstc2-trn.json"
   ]
  },
  {
   "cell_type": "markdown",
   "metadata": {},
   "source": [
    "Let's **construct the final pipeline** of a dialogue system.\n",
    "\n",
    "We take [default DSTC2 bot config](https://github.com/deepmipt/DeepPavlov/blob/master/deeppavlov/configs/go_bot/gobot_dstc2.json) ([more configs](https://github.com/deepmipt/DeepPavlov/blob/master/deeppavlov/configs/go_bot) are available) and change sections responsible for \n",
    "- templates,\n",
    "- database,\n",
    "- slot filler,\n",
    "- embeddings,\n",
    "- data and model load/save paths."
   ]
  },
  {
   "cell_type": "code",
   "execution_count": 26,
   "metadata": {},
   "outputs": [],
   "source": [
    "from deeppavlov import configs\n",
    "from deeppavlov.core.common.file import read_json\n",
    "\n",
    "gobot_config = read_json(configs.go_bot.gobot_simple_dstc2)"
   ]
  },
  {
   "cell_type": "markdown",
   "metadata": {},
   "source": [
    "**Configure** bot to use **templates**:"
   ]
  },
  {
   "cell_type": "code",
   "execution_count": 27,
   "metadata": {},
   "outputs": [],
   "source": [
    "gobot_config['chainer']['pipe'][-1]['template_type'] = 'DefaultTemplate'\n",
    "gobot_config['chainer']['pipe'][-1]['template_path'] = 'my_data/simple-dstc2-templates.txt'"
   ]
  },
  {
   "cell_type": "markdown",
   "metadata": {},
   "source": [
    "**Configure** bot to use our built **database**:"
   ]
  },
  {
   "cell_type": "code",
   "execution_count": 28,
   "metadata": {},
   "outputs": [],
   "source": [
    "gobot_config['chainer']['pipe'][-1]['database'] = {\n",
    "    'class_name': 'sqlite_database',\n",
    "    'primary_keys': [\"name\"],\n",
    "    'save_path': 'my_bot/db.sqlite'\n",
    "}"
   ]
  },
  {
   "cell_type": "markdown",
   "metadata": {},
   "source": [
    "**Configure** bot to use levenshtein distance based **slot filler**:"
   ]
  },
  {
   "cell_type": "code",
   "execution_count": 29,
   "metadata": {},
   "outputs": [],
   "source": [
    "gobot_config['chainer']['pipe'][-1]['slot_filler']['config_path'] = 'my_bot/slotfill_config.json'\n",
    "\n",
    "gobot_config['chainer']['pipe'][-1]['tracker']['slot_names'] = ['pricerange', 'this', 'area', 'food']"
   ]
  },
  {
   "cell_type": "markdown",
   "metadata": {},
   "source": [
    "You can use a simple **bag-of-words as embedder** (by default):"
   ]
  },
  {
   "cell_type": "code",
   "execution_count": 30,
   "metadata": {},
   "outputs": [],
   "source": [
    "gobot_config['chainer']['pipe'][-1]['embedder'] = None"
   ]
  },
  {
   "cell_type": "markdown",
   "metadata": {},
   "source": [
    "Specify train/valid/test **data path** and **path to save** the final bot model:"
   ]
  },
  {
   "cell_type": "code",
   "execution_count": 31,
   "metadata": {},
   "outputs": [],
   "source": [
    "gobot_config['metadata']['variables']['DATA_PATH'] = 'my_data'\n",
    "\n",
    "gobot_config['metadata']['variables']['MODEL_PATH'] = 'my_bot'"
   ]
  },
  {
   "cell_type": "markdown",
   "metadata": {},
   "source": [
    "The whole dialogue system pipeline looks like this:\n",
    "    \n",
    "![gobot_pipeline.png](img/gobot_pipeline.png)"
   ]
  },
  {
   "cell_type": "markdown",
   "metadata": {},
   "source": [
    "##### Training policy network"
   ]
  },
  {
   "cell_type": "code",
   "execution_count": 33,
   "metadata": {},
   "outputs": [
    {
     "name": "stderr",
     "output_type": "stream",
     "text": [
      "2019-09-05 20:04:33.346 INFO in 'deeppavlov.dataset_readers.dstc2_reader'['dstc2_reader'] at line 290: [loading dialogs from /home/vimary/code-projects/Pilot/examples/my_data/simple-dstc2-trn.json]\n",
      "I0905 20:04:33.346428 139952806844032 dstc2_reader.py:290] [loading dialogs from /home/vimary/code-projects/Pilot/examples/my_data/simple-dstc2-trn.json]\n",
      "2019-09-05 20:04:33.351 INFO in 'deeppavlov.dataset_readers.dstc2_reader'['dstc2_reader'] at line 290: [loading dialogs from /home/vimary/code-projects/Pilot/examples/my_data/simple-dstc2-val.json]\n",
      "I0905 20:04:33.351133 139952806844032 dstc2_reader.py:290] [loading dialogs from /home/vimary/code-projects/Pilot/examples/my_data/simple-dstc2-val.json]\n",
      "2019-09-05 20:04:33.387 INFO in 'deeppavlov.dataset_readers.dstc2_reader'['dstc2_reader'] at line 290: [loading dialogs from /home/vimary/code-projects/Pilot/examples/my_data/simple-dstc2-tst.json]\n",
      "I0905 20:04:33.387331 139952806844032 dstc2_reader.py:290] [loading dialogs from /home/vimary/code-projects/Pilot/examples/my_data/simple-dstc2-tst.json]\n",
      "2019-09-05 20:04:33.422 INFO in 'deeppavlov.dataset_readers.dstc2_reader'['dstc2_reader'] at line 282: There are 479 samples in train split.\n",
      "I0905 20:04:33.422173 139952806844032 dstc2_reader.py:282] There are 479 samples in train split.\n",
      "2019-09-05 20:04:33.422 INFO in 'deeppavlov.dataset_readers.dstc2_reader'['dstc2_reader'] at line 283: There are 6231 samples in valid split.\n",
      "I0905 20:04:33.422962 139952806844032 dstc2_reader.py:283] There are 6231 samples in valid split.\n",
      "2019-09-05 20:04:33.423 INFO in 'deeppavlov.dataset_readers.dstc2_reader'['dstc2_reader'] at line 284: There are 6345 samples in test split.\n",
      "I0905 20:04:33.423606 139952806844032 dstc2_reader.py:284] There are 6345 samples in test split.\n",
      "2019-09-05 20:04:33.431 INFO in 'deeppavlov.core.data.simple_vocab'['simple_vocab'] at line 112: [loading vocabulary from /home/vimary/code-projects/Pilot/examples/my_bot/word.dict]\n",
      "I0905 20:04:33.431684 139952806844032 simple_vocab.py:112] [loading vocabulary from /home/vimary/code-projects/Pilot/examples/my_bot/word.dict]\n",
      "2019-09-05 20:04:33.572 INFO in 'deeppavlov.core.data.simple_vocab'['simple_vocab'] at line 98: [saving vocabulary to /home/vimary/code-projects/Pilot/examples/my_bot/word.dict]\n",
      "I0905 20:04:33.572580 139952806844032 simple_vocab.py:98] [saving vocabulary to /home/vimary/code-projects/Pilot/examples/my_bot/word.dict]\n",
      "2019-09-05 20:04:33.574 WARNING in 'deeppavlov.core.models.serializable'['serializable'] at line 50: No load path is set for Sqlite3Database!\n",
      "W0905 20:04:33.574082 139952806844032 serializable.py:50] No load path is set for Sqlite3Database!\n",
      "2019-09-05 20:04:33.574 INFO in 'deeppavlov.core.data.sqlite_database'['sqlite_database'] at line 66: Loading database from /home/vimary/code-projects/Pilot/examples/my_bot/db.sqlite.\n",
      "I0905 20:04:33.574941 139952806844032 sqlite_database.py:66] Loading database from /home/vimary/code-projects/Pilot/examples/my_bot/db.sqlite.\n",
      "2019-09-05 20:04:33.660 INFO in 'deeppavlov.models.go_bot.network'['network'] at line 161: [loading templates from /home/vimary/code-projects/Pilot/examples/my_data/simple-dstc2-templates.txt]\n",
      "I0905 20:04:33.660101 139952806844032 network.py:161] [loading templates from /home/vimary/code-projects/Pilot/examples/my_data/simple-dstc2-templates.txt]\n",
      "2019-09-05 20:04:33.661 INFO in 'deeppavlov.models.go_bot.network'['network'] at line 164: 46 templates loaded.\n",
      "I0905 20:04:33.661334 139952806844032 network.py:164] 46 templates loaded.\n",
      "2019-09-05 20:04:33.662 INFO in 'deeppavlov.models.go_bot.network'['network'] at line 210: Calculated input size for `GoalOrientedBotNetwork` is 205\n",
      "I0905 20:04:33.662416 139952806844032 network.py:210] Calculated input size for `GoalOrientedBotNetwork` is 205\n",
      "W0905 20:04:34.678514 139952806844032 deprecation.py:323] From /home/vimary/code-projects/Pilot/deeppavlov/models/go_bot/network.py:247: checkpoint_exists (from tensorflow.python.training.checkpoint_management) is deprecated and will be removed in a future version.\n",
      "Instructions for updating:\n",
      "Use standard file APIs to check for files with this prefix.\n",
      "2019-09-05 20:04:34.679 INFO in 'deeppavlov.models.go_bot.network'['network'] at line 251: [initializing `GoalOrientedBot` from scratch]\n",
      "I0905 20:04:34.679682 139952806844032 network.py:251] [initializing `GoalOrientedBot` from scratch]\n",
      "2019-09-05 20:05:55.192 INFO in 'deeppavlov.core.trainers.nn_trainer'['nn_trainer'] at line 164: New best per_item_dialog_accuracy of 0.0266\n",
      "I0905 20:05:55.192383 139952806844032 nn_trainer.py:164] New best per_item_dialog_accuracy of 0.0266\n",
      "2019-09-05 20:05:55.193 INFO in 'deeppavlov.core.trainers.nn_trainer'['nn_trainer'] at line 166: Saving model\n",
      "I0905 20:05:55.193156 139952806844032 nn_trainer.py:166] Saving model\n",
      "2019-09-05 20:05:55.193 INFO in 'deeppavlov.core.models.tf_model'['tf_model'] at line 76: [saving model to /home/vimary/code-projects/Pilot/examples/my_bot/model]\n",
      "I0905 20:05:55.193942 139952806844032 tf_model.py:76] [saving model to /home/vimary/code-projects/Pilot/examples/my_bot/model]\n",
      "W0905 20:05:55.195098 139952806844032 deprecation_wrapper.py:119] From /home/vimary/code-projects/Pilot/deeppavlov/core/models/tf_model.py:78: The name tf.train.Saver is deprecated. Please use tf.compat.v1.train.Saver instead.\n",
      "\n",
      "2019-09-05 20:05:55.265 INFO in 'deeppavlov.models.go_bot.network'['network'] at line 757: [saving parameters to /home/vimary/code-projects/Pilot/examples/my_bot/model.json]\n",
      "I0905 20:05:55.265709 139952806844032 network.py:757] [saving parameters to /home/vimary/code-projects/Pilot/examples/my_bot/model.json]\n"
     ]
    },
    {
     "name": "stdout",
     "output_type": "stream",
     "text": [
      "{\"valid\": {\"eval_examples_count\": 575, \"metrics\": {\"per_item_dialog_accuracy\": 0.0266}, \"time_spent\": \"0:01:21\", \"epochs_done\": 0, \"batches_seen\": 0, \"train_examples_seen\": 0, \"impatience\": 0, \"patience_limit\": 10}}\n",
      "{\"train\": {\"eval_examples_count\": 50, \"metrics\": {\"per_item_dialog_accuracy\": 0.5595}, \"time_spent\": \"0:02:00\", \"epochs_done\": 5, \"batches_seen\": 40, \"train_examples_seen\": 290, \"learning_rate\": 0.003, \"momentum\": 0.95, \"loss\": 1.5118535563349724}}\n"
     ]
    },
    {
     "name": "stderr",
     "output_type": "stream",
     "text": [
      "2019-09-05 20:07:53.480 INFO in 'deeppavlov.core.trainers.nn_trainer'['nn_trainer'] at line 164: New best per_item_dialog_accuracy of 0.442\n",
      "I0905 20:07:53.480249 139952806844032 nn_trainer.py:164] New best per_item_dialog_accuracy of 0.442\n",
      "2019-09-05 20:07:53.481 INFO in 'deeppavlov.core.trainers.nn_trainer'['nn_trainer'] at line 166: Saving model\n",
      "I0905 20:07:53.481023 139952806844032 nn_trainer.py:166] Saving model\n",
      "2019-09-05 20:07:53.481 INFO in 'deeppavlov.core.models.tf_model'['tf_model'] at line 76: [saving model to /home/vimary/code-projects/Pilot/examples/my_bot/model]\n",
      "I0905 20:07:53.481976 139952806844032 tf_model.py:76] [saving model to /home/vimary/code-projects/Pilot/examples/my_bot/model]\n",
      "2019-09-05 20:07:53.556 INFO in 'deeppavlov.models.go_bot.network'['network'] at line 757: [saving parameters to /home/vimary/code-projects/Pilot/examples/my_bot/model.json]\n",
      "I0905 20:07:53.556905 139952806844032 network.py:757] [saving parameters to /home/vimary/code-projects/Pilot/examples/my_bot/model.json]\n"
     ]
    },
    {
     "name": "stdout",
     "output_type": "stream",
     "text": [
      "{\"valid\": {\"eval_examples_count\": 575, \"metrics\": {\"per_item_dialog_accuracy\": 0.442}, \"time_spent\": \"0:03:19\", \"epochs_done\": 5, \"batches_seen\": 40, \"train_examples_seen\": 290, \"impatience\": 0, \"patience_limit\": 10}}\n",
      "{\"train\": {\"eval_examples_count\": 50, \"metrics\": {\"per_item_dialog_accuracy\": 0.7516}, \"time_spent\": \"0:03:58\", \"epochs_done\": 11, \"batches_seen\": 80, \"train_examples_seen\": 574, \"learning_rate\": 0.003, \"momentum\": 0.95, \"loss\": 0.6322784662246704}}\n"
     ]
    },
    {
     "name": "stderr",
     "output_type": "stream",
     "text": [
      "2019-09-05 20:09:50.864 INFO in 'deeppavlov.core.trainers.nn_trainer'['nn_trainer'] at line 164: New best per_item_dialog_accuracy of 0.4824\n",
      "I0905 20:09:50.864818 139952806844032 nn_trainer.py:164] New best per_item_dialog_accuracy of 0.4824\n",
      "2019-09-05 20:09:50.865 INFO in 'deeppavlov.core.trainers.nn_trainer'['nn_trainer'] at line 166: Saving model\n",
      "I0905 20:09:50.865603 139952806844032 nn_trainer.py:166] Saving model\n",
      "2019-09-05 20:09:50.866 INFO in 'deeppavlov.core.models.tf_model'['tf_model'] at line 76: [saving model to /home/vimary/code-projects/Pilot/examples/my_bot/model]\n",
      "I0905 20:09:50.866755 139952806844032 tf_model.py:76] [saving model to /home/vimary/code-projects/Pilot/examples/my_bot/model]\n",
      "2019-09-05 20:09:50.945 INFO in 'deeppavlov.models.go_bot.network'['network'] at line 757: [saving parameters to /home/vimary/code-projects/Pilot/examples/my_bot/model.json]\n",
      "I0905 20:09:50.945839 139952806844032 network.py:757] [saving parameters to /home/vimary/code-projects/Pilot/examples/my_bot/model.json]\n"
     ]
    },
    {
     "name": "stdout",
     "output_type": "stream",
     "text": [
      "{\"valid\": {\"eval_examples_count\": 575, \"metrics\": {\"per_item_dialog_accuracy\": 0.4824}, \"time_spent\": \"0:05:17\", \"epochs_done\": 11, \"batches_seen\": 80, \"train_examples_seen\": 574, \"impatience\": 0, \"patience_limit\": 10}}\n",
      "{\"train\": {\"eval_examples_count\": 50, \"metrics\": {\"per_item_dialog_accuracy\": 0.8392}, \"time_spent\": \"0:05:55\", \"epochs_done\": 17, \"batches_seen\": 120, \"train_examples_seen\": 858, \"learning_rate\": 0.003, \"momentum\": 0.95, \"loss\": 0.3325253024697304}}\n"
     ]
    },
    {
     "name": "stderr",
     "output_type": "stream",
     "text": [
      "2019-09-05 20:11:48.63 INFO in 'deeppavlov.core.trainers.nn_trainer'['nn_trainer'] at line 164: New best per_item_dialog_accuracy of 0.5134\n",
      "I0905 20:11:48.063428 139952806844032 nn_trainer.py:164] New best per_item_dialog_accuracy of 0.5134\n",
      "2019-09-05 20:11:48.64 INFO in 'deeppavlov.core.trainers.nn_trainer'['nn_trainer'] at line 166: Saving model\n",
      "I0905 20:11:48.064159 139952806844032 nn_trainer.py:166] Saving model\n",
      "2019-09-05 20:11:48.65 INFO in 'deeppavlov.core.models.tf_model'['tf_model'] at line 76: [saving model to /home/vimary/code-projects/Pilot/examples/my_bot/model]\n",
      "I0905 20:11:48.065043 139952806844032 tf_model.py:76] [saving model to /home/vimary/code-projects/Pilot/examples/my_bot/model]\n",
      "2019-09-05 20:11:48.142 INFO in 'deeppavlov.models.go_bot.network'['network'] at line 757: [saving parameters to /home/vimary/code-projects/Pilot/examples/my_bot/model.json]\n",
      "I0905 20:11:48.142449 139952806844032 network.py:757] [saving parameters to /home/vimary/code-projects/Pilot/examples/my_bot/model.json]\n"
     ]
    },
    {
     "name": "stdout",
     "output_type": "stream",
     "text": [
      "{\"valid\": {\"eval_examples_count\": 575, \"metrics\": {\"per_item_dialog_accuracy\": 0.5134}, \"time_spent\": \"0:07:14\", \"epochs_done\": 17, \"batches_seen\": 120, \"train_examples_seen\": 858, \"impatience\": 0, \"patience_limit\": 10}}\n",
      "{\"train\": {\"eval_examples_count\": 50, \"metrics\": {\"per_item_dialog_accuracy\": 0.8685}, \"time_spent\": \"0:07:53\", \"epochs_done\": 22, \"batches_seen\": 160, \"train_examples_seen\": 1148, \"learning_rate\": 0.003, \"momentum\": 0.95, \"loss\": 0.2125851646065712}}\n"
     ]
    },
    {
     "name": "stderr",
     "output_type": "stream",
     "text": [
      "2019-09-05 20:13:45.641 INFO in 'deeppavlov.core.trainers.nn_trainer'['nn_trainer'] at line 170: Did not improve on the per_item_dialog_accuracy of 0.5134\n",
      "I0905 20:13:45.641479 139952806844032 nn_trainer.py:170] Did not improve on the per_item_dialog_accuracy of 0.5134\n"
     ]
    },
    {
     "name": "stdout",
     "output_type": "stream",
     "text": [
      "{\"valid\": {\"eval_examples_count\": 575, \"metrics\": {\"per_item_dialog_accuracy\": 0.5099}, \"time_spent\": \"0:09:11\", \"epochs_done\": 22, \"batches_seen\": 160, \"train_examples_seen\": 1148, \"impatience\": 1, \"patience_limit\": 10}}\n",
      "{\"train\": {\"eval_examples_count\": 50, \"metrics\": {\"per_item_dialog_accuracy\": 0.881}, \"time_spent\": \"0:09:50\", \"epochs_done\": 28, \"batches_seen\": 200, \"train_examples_seen\": 1432, \"learning_rate\": 0.003, \"momentum\": 0.95, \"loss\": 0.150836999155581}}\n"
     ]
    },
    {
     "name": "stderr",
     "output_type": "stream",
     "text": [
      "2019-09-05 20:15:42.832 INFO in 'deeppavlov.core.trainers.nn_trainer'['nn_trainer'] at line 170: Did not improve on the per_item_dialog_accuracy of 0.5134\n",
      "I0905 20:15:42.832957 139952806844032 nn_trainer.py:170] Did not improve on the per_item_dialog_accuracy of 0.5134\n"
     ]
    },
    {
     "name": "stdout",
     "output_type": "stream",
     "text": [
      "{\"valid\": {\"eval_examples_count\": 575, \"metrics\": {\"per_item_dialog_accuracy\": 0.5022}, \"time_spent\": \"0:11:09\", \"epochs_done\": 28, \"batches_seen\": 200, \"train_examples_seen\": 1432, \"impatience\": 2, \"patience_limit\": 10}}\n"
     ]
    },
    {
     "name": "stderr",
     "output_type": "stream",
     "text": [
      "2019-09-05 20:15:50.402 INFO in 'deeppavlov.core.trainers.nn_trainer'['nn_trainer'] at line 296: Stopped training\n",
      "I0905 20:15:50.402140 139952806844032 nn_trainer.py:296] Stopped training\n",
      "2019-09-05 20:15:50.416 INFO in 'deeppavlov.core.data.simple_vocab'['simple_vocab'] at line 112: [loading vocabulary from /home/vimary/code-projects/Pilot/examples/my_bot/word.dict]\n",
      "I0905 20:15:50.416077 139952806844032 simple_vocab.py:112] [loading vocabulary from /home/vimary/code-projects/Pilot/examples/my_bot/word.dict]\n",
      "2019-09-05 20:15:50.418 WARNING in 'deeppavlov.core.models.serializable'['serializable'] at line 47: No load path is set for Sqlite3Database in 'infer' mode. Using save path instead\n",
      "W0905 20:15:50.418551 139952806844032 serializable.py:47] No load path is set for Sqlite3Database in 'infer' mode. Using save path instead\n",
      "2019-09-05 20:15:50.420 INFO in 'deeppavlov.core.data.sqlite_database'['sqlite_database'] at line 66: Loading database from /home/vimary/code-projects/Pilot/examples/my_bot/db.sqlite.\n",
      "I0905 20:15:50.420100 139952806844032 sqlite_database.py:66] Loading database from /home/vimary/code-projects/Pilot/examples/my_bot/db.sqlite.\n",
      "2019-09-05 20:15:50.512 INFO in 'deeppavlov.models.go_bot.network'['network'] at line 161: [loading templates from /home/vimary/code-projects/Pilot/examples/my_data/simple-dstc2-templates.txt]\n",
      "I0905 20:15:50.512352 139952806844032 network.py:161] [loading templates from /home/vimary/code-projects/Pilot/examples/my_data/simple-dstc2-templates.txt]\n",
      "2019-09-05 20:15:50.513 INFO in 'deeppavlov.models.go_bot.network'['network'] at line 164: 46 templates loaded.\n",
      "I0905 20:15:50.513626 139952806844032 network.py:164] 46 templates loaded.\n",
      "2019-09-05 20:15:50.514 INFO in 'deeppavlov.models.go_bot.network'['network'] at line 210: Calculated input size for `GoalOrientedBotNetwork` is 205\n",
      "I0905 20:15:50.514521 139952806844032 network.py:210] Calculated input size for `GoalOrientedBotNetwork` is 205\n",
      "2019-09-05 20:15:50.992 INFO in 'deeppavlov.models.go_bot.network'['network'] at line 248: [initializing `GoalOrientedBot` from saved]\n",
      "I0905 20:15:50.992848 139952806844032 network.py:248] [initializing `GoalOrientedBot` from saved]\n",
      "2019-09-05 20:15:50.993 INFO in 'deeppavlov.models.go_bot.network'['network'] at line 763: [loading parameters from /home/vimary/code-projects/Pilot/examples/my_bot/model.json]\n",
      "I0905 20:15:50.993799 139952806844032 network.py:763] [loading parameters from /home/vimary/code-projects/Pilot/examples/my_bot/model.json]\n",
      "2019-09-05 20:15:50.995 INFO in 'deeppavlov.core.models.tf_model'['tf_model'] at line 52: [loading model from /home/vimary/code-projects/Pilot/examples/my_bot/model]\n",
      "I0905 20:15:50.995208 139952806844032 tf_model.py:52] [loading model from /home/vimary/code-projects/Pilot/examples/my_bot/model]\n"
     ]
    },
    {
     "name": "stdout",
     "output_type": "stream",
     "text": [
      "{\"valid\": {\"eval_examples_count\": 575, \"metrics\": {\"per_item_dialog_accuracy\": 0.5134}, \"time_spent\": \"0:01:22\"}}\n"
     ]
    },
    {
     "name": "stderr",
     "output_type": "stream",
     "text": [
      "2019-09-05 20:18:30.800 INFO in 'deeppavlov.core.data.simple_vocab'['simple_vocab'] at line 112: [loading vocabulary from /home/vimary/code-projects/Pilot/examples/my_bot/word.dict]\n",
      "I0905 20:18:30.800374 139952806844032 simple_vocab.py:112] [loading vocabulary from /home/vimary/code-projects/Pilot/examples/my_bot/word.dict]\n",
      "2019-09-05 20:18:30.801 WARNING in 'deeppavlov.core.models.serializable'['serializable'] at line 47: No load path is set for Sqlite3Database in 'infer' mode. Using save path instead\n",
      "W0905 20:18:30.801774 139952806844032 serializable.py:47] No load path is set for Sqlite3Database in 'infer' mode. Using save path instead\n",
      "2019-09-05 20:18:30.802 INFO in 'deeppavlov.core.data.sqlite_database'['sqlite_database'] at line 66: Loading database from /home/vimary/code-projects/Pilot/examples/my_bot/db.sqlite.\n",
      "I0905 20:18:30.802565 139952806844032 sqlite_database.py:66] Loading database from /home/vimary/code-projects/Pilot/examples/my_bot/db.sqlite.\n",
      "2019-09-05 20:18:30.888 INFO in 'deeppavlov.models.go_bot.network'['network'] at line 161: [loading templates from /home/vimary/code-projects/Pilot/examples/my_data/simple-dstc2-templates.txt]\n",
      "I0905 20:18:30.888623 139952806844032 network.py:161] [loading templates from /home/vimary/code-projects/Pilot/examples/my_data/simple-dstc2-templates.txt]\n",
      "2019-09-05 20:18:30.889 INFO in 'deeppavlov.models.go_bot.network'['network'] at line 164: 46 templates loaded.\n",
      "I0905 20:18:30.889590 139952806844032 network.py:164] 46 templates loaded.\n",
      "2019-09-05 20:18:30.890 INFO in 'deeppavlov.models.go_bot.network'['network'] at line 210: Calculated input size for `GoalOrientedBotNetwork` is 205\n",
      "I0905 20:18:30.890220 139952806844032 network.py:210] Calculated input size for `GoalOrientedBotNetwork` is 205\n"
     ]
    },
    {
     "name": "stdout",
     "output_type": "stream",
     "text": [
      "{\"test\": {\"eval_examples_count\": 576, \"metrics\": {\"per_item_dialog_accuracy\": 0.5006}, \"time_spent\": \"0:01:19\"}}\n"
     ]
    },
    {
     "name": "stderr",
     "output_type": "stream",
     "text": [
      "2019-09-05 20:18:31.509 INFO in 'deeppavlov.models.go_bot.network'['network'] at line 248: [initializing `GoalOrientedBot` from saved]\n",
      "I0905 20:18:31.509837 139952806844032 network.py:248] [initializing `GoalOrientedBot` from saved]\n",
      "2019-09-05 20:18:31.510 INFO in 'deeppavlov.models.go_bot.network'['network'] at line 763: [loading parameters from /home/vimary/code-projects/Pilot/examples/my_bot/model.json]\n",
      "I0905 20:18:31.510730 139952806844032 network.py:763] [loading parameters from /home/vimary/code-projects/Pilot/examples/my_bot/model.json]\n",
      "2019-09-05 20:18:31.513 INFO in 'deeppavlov.core.models.tf_model'['tf_model'] at line 52: [loading model from /home/vimary/code-projects/Pilot/examples/my_bot/model]\n",
      "I0905 20:18:31.513499 139952806844032 tf_model.py:52] [loading model from /home/vimary/code-projects/Pilot/examples/my_bot/model]\n"
     ]
    }
   ],
   "source": [
    "from deeppavlov import train_model\n",
    "\n",
    "gobot_config['train']['batch_size'] = 8 # set batch size\n",
    "gobot_config['train']['max_batches'] = 120 # maximum number of training batches\n",
    "gobot_config['train']['val_every_n_batches'] = 40 # evaluate on full 'valid' split each 40 batches\n",
    "gobot_config['train']['log_every_n_batches'] = 40 # evaluate on 20 batches of 'train' split every 4g0 batches\n",
    "gobot_config['train']['log_on_k_batches'] = 20\n",
    "\n",
    "train_model(gobot_config);"
   ]
  },
  {
   "cell_type": "markdown",
   "metadata": {},
   "source": [
    "Training on 50 dialogues takes from 5 to 20 minutes depending on gpu/cpu. Training on full data takes 10-30 mins.\n",
    "\n",
    "See [config doc page](http://docs.deeppavlov.ai/en/master/intro/configuration.html) for advanced configuration of the training process."
   ]
  },
  {
   "cell_type": "markdown",
   "metadata": {},
   "source": [
    "##### Metric scores on valid&test"
   ]
  },
  {
   "cell_type": "markdown",
   "metadata": {},
   "source": [
    "Calculating **accuracy** of trained bot: whether predicted system responses match true responses (full string match)."
   ]
  },
  {
   "cell_type": "code",
   "execution_count": 34,
   "metadata": {
    "scrolled": true
   },
   "outputs": [
    {
     "name": "stderr",
     "output_type": "stream",
     "text": [
      "2019-09-05 20:18:31.552 INFO in 'deeppavlov.dataset_readers.dstc2_reader'['dstc2_reader'] at line 290: [loading dialogs from /home/vimary/code-projects/Pilot/examples/my_data/simple-dstc2-trn.json]\n",
      "I0905 20:18:31.552329 139952806844032 dstc2_reader.py:290] [loading dialogs from /home/vimary/code-projects/Pilot/examples/my_data/simple-dstc2-trn.json]\n",
      "2019-09-05 20:18:31.557 INFO in 'deeppavlov.dataset_readers.dstc2_reader'['dstc2_reader'] at line 290: [loading dialogs from /home/vimary/code-projects/Pilot/examples/my_data/simple-dstc2-val.json]\n",
      "I0905 20:18:31.557561 139952806844032 dstc2_reader.py:290] [loading dialogs from /home/vimary/code-projects/Pilot/examples/my_data/simple-dstc2-val.json]\n",
      "2019-09-05 20:18:31.588 INFO in 'deeppavlov.dataset_readers.dstc2_reader'['dstc2_reader'] at line 290: [loading dialogs from /home/vimary/code-projects/Pilot/examples/my_data/simple-dstc2-tst.json]\n",
      "I0905 20:18:31.588336 139952806844032 dstc2_reader.py:290] [loading dialogs from /home/vimary/code-projects/Pilot/examples/my_data/simple-dstc2-tst.json]\n",
      "2019-09-05 20:18:31.622 INFO in 'deeppavlov.dataset_readers.dstc2_reader'['dstc2_reader'] at line 282: There are 479 samples in train split.\n",
      "I0905 20:18:31.622786 139952806844032 dstc2_reader.py:282] There are 479 samples in train split.\n",
      "2019-09-05 20:18:31.623 INFO in 'deeppavlov.dataset_readers.dstc2_reader'['dstc2_reader'] at line 283: There are 6231 samples in valid split.\n",
      "I0905 20:18:31.623717 139952806844032 dstc2_reader.py:283] There are 6231 samples in valid split.\n",
      "2019-09-05 20:18:31.624 INFO in 'deeppavlov.dataset_readers.dstc2_reader'['dstc2_reader'] at line 284: There are 6345 samples in test split.\n",
      "I0905 20:18:31.624310 139952806844032 dstc2_reader.py:284] There are 6345 samples in test split.\n",
      "2019-09-05 20:18:31.631 INFO in 'deeppavlov.core.data.simple_vocab'['simple_vocab'] at line 112: [loading vocabulary from /home/vimary/code-projects/Pilot/examples/my_bot/word.dict]\n",
      "I0905 20:18:31.631226 139952806844032 simple_vocab.py:112] [loading vocabulary from /home/vimary/code-projects/Pilot/examples/my_bot/word.dict]\n",
      "2019-09-05 20:18:31.632 WARNING in 'deeppavlov.core.models.serializable'['serializable'] at line 47: No load path is set for Sqlite3Database in 'infer' mode. Using save path instead\n",
      "W0905 20:18:31.632726 139952806844032 serializable.py:47] No load path is set for Sqlite3Database in 'infer' mode. Using save path instead\n",
      "2019-09-05 20:18:31.633 INFO in 'deeppavlov.core.data.sqlite_database'['sqlite_database'] at line 66: Loading database from /home/vimary/code-projects/Pilot/examples/my_bot/db.sqlite.\n",
      "I0905 20:18:31.633708 139952806844032 sqlite_database.py:66] Loading database from /home/vimary/code-projects/Pilot/examples/my_bot/db.sqlite.\n",
      "2019-09-05 20:18:31.868 INFO in 'deeppavlov.models.go_bot.network'['network'] at line 161: [loading templates from /home/vimary/code-projects/Pilot/examples/my_data/simple-dstc2-templates.txt]\n",
      "I0905 20:18:31.868086 139952806844032 network.py:161] [loading templates from /home/vimary/code-projects/Pilot/examples/my_data/simple-dstc2-templates.txt]\n",
      "2019-09-05 20:18:31.869 INFO in 'deeppavlov.models.go_bot.network'['network'] at line 164: 46 templates loaded.\n",
      "I0905 20:18:31.869432 139952806844032 network.py:164] 46 templates loaded.\n",
      "2019-09-05 20:18:31.870 INFO in 'deeppavlov.models.go_bot.network'['network'] at line 210: Calculated input size for `GoalOrientedBotNetwork` is 205\n",
      "I0905 20:18:31.870312 139952806844032 network.py:210] Calculated input size for `GoalOrientedBotNetwork` is 205\n",
      "2019-09-05 20:18:32.328 INFO in 'deeppavlov.models.go_bot.network'['network'] at line 248: [initializing `GoalOrientedBot` from saved]\n",
      "I0905 20:18:32.328835 139952806844032 network.py:248] [initializing `GoalOrientedBot` from saved]\n",
      "2019-09-05 20:18:32.330 INFO in 'deeppavlov.models.go_bot.network'['network'] at line 763: [loading parameters from /home/vimary/code-projects/Pilot/examples/my_bot/model.json]\n",
      "I0905 20:18:32.330151 139952806844032 network.py:763] [loading parameters from /home/vimary/code-projects/Pilot/examples/my_bot/model.json]\n",
      "2019-09-05 20:18:32.333 INFO in 'deeppavlov.core.models.tf_model'['tf_model'] at line 52: [loading model from /home/vimary/code-projects/Pilot/examples/my_bot/model]\n",
      "I0905 20:18:32.333451 139952806844032 tf_model.py:52] [loading model from /home/vimary/code-projects/Pilot/examples/my_bot/model]\n"
     ]
    },
    {
     "name": "stdout",
     "output_type": "stream",
     "text": [
      "{\"valid\": {\"eval_examples_count\": 575, \"metrics\": {\"per_item_dialog_accuracy\": 0.5134}, \"time_spent\": \"0:01:19\"}}\n",
      "{\"test\": {\"eval_examples_count\": 576, \"metrics\": {\"per_item_dialog_accuracy\": 0.5006}, \"time_spent\": \"0:01:17\"}}\n"
     ]
    }
   ],
   "source": [
    "from deeppavlov import evaluate_model\n",
    "\n",
    "evaluate_model(gobot_config);"
   ]
  },
  {
   "cell_type": "markdown",
   "metadata": {},
   "source": [
    "With settings of `max_batches=120`, valid accuracy `= 0.5` and test accuracy is `~ 0.5`."
   ]
  },
  {
   "cell_type": "markdown",
   "metadata": {},
   "source": [
    "##### Chatting with bot"
   ]
  },
  {
   "cell_type": "code",
   "execution_count": 35,
   "metadata": {},
   "outputs": [
    {
     "name": "stderr",
     "output_type": "stream",
     "text": [
      "2019-09-05 20:21:07.16 INFO in 'deeppavlov.core.data.simple_vocab'['simple_vocab'] at line 112: [loading vocabulary from /home/vimary/code-projects/Pilot/examples/my_bot/word.dict]\n",
      "I0905 20:21:07.016307 139952806844032 simple_vocab.py:112] [loading vocabulary from /home/vimary/code-projects/Pilot/examples/my_bot/word.dict]\n",
      "2019-09-05 20:21:07.17 WARNING in 'deeppavlov.core.models.serializable'['serializable'] at line 47: No load path is set for Sqlite3Database in 'infer' mode. Using save path instead\n",
      "W0905 20:21:07.017714 139952806844032 serializable.py:47] No load path is set for Sqlite3Database in 'infer' mode. Using save path instead\n",
      "2019-09-05 20:21:07.19 INFO in 'deeppavlov.core.data.sqlite_database'['sqlite_database'] at line 66: Loading database from /home/vimary/code-projects/Pilot/examples/my_bot/db.sqlite.\n",
      "I0905 20:21:07.019069 139952806844032 sqlite_database.py:66] Loading database from /home/vimary/code-projects/Pilot/examples/my_bot/db.sqlite.\n",
      "2019-09-05 20:21:07.104 INFO in 'deeppavlov.models.go_bot.network'['network'] at line 161: [loading templates from /home/vimary/code-projects/Pilot/examples/my_data/simple-dstc2-templates.txt]\n",
      "I0905 20:21:07.104345 139952806844032 network.py:161] [loading templates from /home/vimary/code-projects/Pilot/examples/my_data/simple-dstc2-templates.txt]\n",
      "2019-09-05 20:21:07.105 INFO in 'deeppavlov.models.go_bot.network'['network'] at line 164: 46 templates loaded.\n",
      "I0905 20:21:07.105619 139952806844032 network.py:164] 46 templates loaded.\n",
      "2019-09-05 20:21:07.106 INFO in 'deeppavlov.models.go_bot.network'['network'] at line 210: Calculated input size for `GoalOrientedBotNetwork` is 205\n",
      "I0905 20:21:07.106404 139952806844032 network.py:210] Calculated input size for `GoalOrientedBotNetwork` is 205\n",
      "2019-09-05 20:21:07.568 INFO in 'deeppavlov.models.go_bot.network'['network'] at line 248: [initializing `GoalOrientedBot` from saved]\n",
      "I0905 20:21:07.568055 139952806844032 network.py:248] [initializing `GoalOrientedBot` from saved]\n",
      "2019-09-05 20:21:07.569 INFO in 'deeppavlov.models.go_bot.network'['network'] at line 763: [loading parameters from /home/vimary/code-projects/Pilot/examples/my_bot/model.json]\n",
      "I0905 20:21:07.569253 139952806844032 network.py:763] [loading parameters from /home/vimary/code-projects/Pilot/examples/my_bot/model.json]\n",
      "2019-09-05 20:21:07.570 INFO in 'deeppavlov.core.models.tf_model'['tf_model'] at line 52: [loading model from /home/vimary/code-projects/Pilot/examples/my_bot/model]\n",
      "I0905 20:21:07.570725 139952806844032 tf_model.py:52] [loading model from /home/vimary/code-projects/Pilot/examples/my_bot/model]\n"
     ]
    }
   ],
   "source": [
    "from deeppavlov import build_model\n",
    "\n",
    "bot = build_model(gobot_config)"
   ]
  },
  {
   "cell_type": "code",
   "execution_count": 36,
   "metadata": {},
   "outputs": [
    {
     "data": {
      "text/plain": [
       "['Hello, welcome to the Cambridge restaurant system. You can ask for restaurants by area, price range or food type. How may I help you?']"
      ]
     },
     "execution_count": 36,
     "metadata": {},
     "output_type": "execute_result"
    }
   ],
   "source": [
    "bot(['hi, i want to eat, can you suggest a place to go?'])"
   ]
  },
  {
   "cell_type": "code",
   "execution_count": 37,
   "metadata": {},
   "outputs": [
    {
     "data": {
      "text/plain": [
       "['What kind of food would you like?']"
      ]
     },
     "execution_count": 37,
     "metadata": {},
     "output_type": "execute_result"
    }
   ],
   "source": [
    "bot(['i want cheap food'])"
   ]
  },
  {
   "cell_type": "code",
   "execution_count": 38,
   "metadata": {},
   "outputs": [
    {
     "name": "stderr",
     "output_type": "stream",
     "text": [
      "2019-09-05 20:21:07.720 INFO in 'deeppavlov.models.go_bot.network'['network'] at line 485: Made api_call with {'pricerange': 'cheap', 'food': 'chinese'}, got 4 results.\n",
      "I0905 20:21:07.720231 139952806844032 network.py:485] Made api_call with {'pricerange': 'cheap', 'food': 'chinese'}, got 4 results.\n"
     ]
    },
    {
     "data": {
      "text/plain": [
       "['The lucky star serves chinese food.']"
      ]
     },
     "execution_count": 38,
     "metadata": {},
     "output_type": "execute_result"
    }
   ],
   "source": [
    "bot(['chinese food'])"
   ]
  },
  {
   "cell_type": "code",
   "execution_count": 39,
   "metadata": {},
   "outputs": [
    {
     "data": {
      "text/plain": [
       "['Sure, the lucky star is on cambridge leisure park clifton way cherry hinton.']"
      ]
     },
     "execution_count": 39,
     "metadata": {},
     "output_type": "execute_result"
    }
   ],
   "source": [
    "bot(['thanks, give me their address'])"
   ]
  },
  {
   "cell_type": "code",
   "execution_count": 40,
   "metadata": {},
   "outputs": [
    {
     "data": {
      "text/plain": [
       "['The phone number of the lucky star is 01223 244277.']"
      ]
     },
     "execution_count": 40,
     "metadata": {},
     "output_type": "execute_result"
    }
   ],
   "source": [
    "bot(['i want their phone number too'])"
   ]
  },
  {
   "cell_type": "code",
   "execution_count": 41,
   "metadata": {},
   "outputs": [
    {
     "data": {
      "text/plain": [
       "['Can I help you with anything else?']"
      ]
     },
     "execution_count": 41,
     "metadata": {},
     "output_type": "execute_result"
    }
   ],
   "source": [
    "bot(['bye'])"
   ]
  },
  {
   "cell_type": "code",
   "execution_count": 42,
   "metadata": {},
   "outputs": [],
   "source": [
    "bot.reset()"
   ]
  },
  {
   "cell_type": "code",
   "execution_count": 43,
   "metadata": {},
   "outputs": [
    {
     "data": {
      "text/plain": [
       "['What kind of food would you like?']"
      ]
     },
     "execution_count": 43,
     "metadata": {},
     "output_type": "execute_result"
    }
   ],
   "source": [
    "bot(['hi, is there any cheap restaurant?'])"
   ]
  },
  {
   "cell_type": "code",
   "execution_count": null,
   "metadata": {},
   "outputs": [],
   "source": []
  }
 ],
 "metadata": {
  "kernelspec": {
   "display_name": "Python (dp_env)",
   "language": "python",
   "name": "dp_env"
  },
  "language_info": {
   "codemirror_mode": {
    "name": "ipython",
    "version": 3
   },
   "file_extension": ".py",
   "mimetype": "text/x-python",
   "name": "python",
   "nbconvert_exporter": "python",
   "pygments_lexer": "ipython3",
   "version": "3.7.3"
  }
 },
 "nbformat": 4,
 "nbformat_minor": 2
}
