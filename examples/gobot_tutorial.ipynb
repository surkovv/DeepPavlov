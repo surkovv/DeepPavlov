{
 "cells": [
  {
   "cell_type": "markdown",
   "metadata": {},
   "source": [
    "### You can also run the notebook in [COLAB](https://colab.research.google.com/github/deepmipt/DeepPavlov/blob/master/examples/gobot_tutorial.ipynb)."
   ]
  },
  {
   "cell_type": "code",
   "execution_count": null,
   "metadata": {},
   "outputs": [],
   "source": [
    "!pip install deeppavlov"
   ]
  },
  {
   "cell_type": "markdown",
   "metadata": {},
   "source": [
    "# Goal-oriented bot in DeepPavlov"
   ]
  },
  {
   "cell_type": "markdown",
   "metadata": {},
   "source": [
    "The tutor is focused on building a goal-oriented dialogue system:\n",
    "\n",
    "0. [Data preparation](#0.-Data-Preparation)\n",
    "1. [Train bot](#1.-Train-bot)\n",
    "\n",
    "An example of the final model served as a telegram bot is:\n",
    "\n",
    "![gobot_simple_example.png](img/gobot_simple_example.png)"
   ]
  },
  {
   "cell_type": "markdown",
   "metadata": {},
   "source": [
    "## 0. Data Preparation"
   ]
  },
  {
   "cell_type": "markdown",
   "metadata": {},
   "source": [
    "The tutor's dialogue system will be on the domain of personal assistant. We generated 10 dialogues to train and validate out bot.\n",
    "\n",
    "See below a small chunk of the data."
   ]
  },
  {
   "cell_type": "code",
   "execution_count": 50,
   "metadata": {},
   "outputs": [],
   "source": [
    "from deeppavlov.dataset_readers.dstc2_reader import SimpleDSTC2DatasetReader\n",
    "\n",
    "\n",
    "class AssistantDatasetReader(SimpleDSTC2DatasetReader):\n",
    "    \n",
    "    url = \"http://files.deeppavlov.ai/datasets/tutor_assistant_data.tar.gz\"\n",
    "    \n",
    "    @staticmethod\n",
    "    def _data_fname(datatype):\n",
    "        assert datatype in ('val', 'trn', 'tst'), \"wrong datatype name\"\n",
    "        return f\"assistant-{datatype}.json\""
   ]
  },
  {
   "cell_type": "code",
   "execution_count": 51,
   "metadata": {},
   "outputs": [
    {
     "name": "stderr",
     "output_type": "stream",
     "text": [
      "2019-09-06 17:04:11.586 INFO in 'deeppavlov.dataset_readers.dstc2_reader'['dstc2_reader'] at line 269: [PosixPath('assistant_data/assistant-val.json'), PosixPath('assistant_data/assistant-tst.json')]]\n",
      "I0906 17:04:11.586643 139767249307264 dstc2_reader.py:269] [PosixPath('assistant_data/assistant-val.json'), PosixPath('assistant_data/assistant-tst.json')]]\n",
      "2019-09-06 17:04:11.587 INFO in 'deeppavlov.dataset_readers.dstc2_reader'['dstc2_reader'] at line 270: [downloading data from http://files.deeppavlov.ai/datasets/tutor_assistant_data.tar.gz to assistant_data]\n",
      "I0906 17:04:11.587791 139767249307264 dstc2_reader.py:270] [downloading data from http://files.deeppavlov.ai/datasets/tutor_assistant_data.tar.gz to assistant_data]\n",
      "2019-09-06 17:04:12.96 INFO in 'deeppavlov.core.data.utils'['utils'] at line 63: Downloading from http://files.deeppavlov.ai/datasets/tutor_assistant_data.tar.gz to assistant_data/tutor_assistant_data.tar.gz\n",
      "I0906 17:04:12.096202 139767249307264 utils.py:63] Downloading from http://files.deeppavlov.ai/datasets/tutor_assistant_data.tar.gz to assistant_data/tutor_assistant_data.tar.gz\n",
      "100%|██████████| 838/838 [00:00<00:00, 1.26MB/s]\n",
      "2019-09-06 17:04:12.104 INFO in 'deeppavlov.core.data.utils'['utils'] at line 201: Extracting assistant_data/tutor_assistant_data.tar.gz archive into assistant_data\n",
      "I0906 17:04:12.104086 139767249307264 utils.py:201] Extracting assistant_data/tutor_assistant_data.tar.gz archive into assistant_data\n",
      "2019-09-06 17:04:12.106 INFO in 'deeppavlov.dataset_readers.dstc2_reader'['dstc2_reader'] at line 290: [loading dialogs from assistant_data/assistant-trn.json]\n",
      "I0906 17:04:12.106326 139767249307264 dstc2_reader.py:290] [loading dialogs from assistant_data/assistant-trn.json]\n",
      "2019-09-06 17:04:12.107 INFO in 'deeppavlov.dataset_readers.dstc2_reader'['dstc2_reader'] at line 290: [loading dialogs from assistant_data/assistant-val.json]\n",
      "I0906 17:04:12.107442 139767249307264 dstc2_reader.py:290] [loading dialogs from assistant_data/assistant-val.json]\n",
      "2019-09-06 17:04:12.108 INFO in 'deeppavlov.dataset_readers.dstc2_reader'['dstc2_reader'] at line 290: [loading dialogs from assistant_data/assistant-tst.json]\n",
      "I0906 17:04:12.108381 139767249307264 dstc2_reader.py:290] [loading dialogs from assistant_data/assistant-tst.json]\n",
      "2019-09-06 17:04:12.109 INFO in 'deeppavlov.dataset_readers.dstc2_reader'['dstc2_reader'] at line 282: There are 24 samples in train split.\n",
      "I0906 17:04:12.109828 139767249307264 dstc2_reader.py:282] There are 24 samples in train split.\n",
      "2019-09-06 17:04:12.110 INFO in 'deeppavlov.dataset_readers.dstc2_reader'['dstc2_reader'] at line 283: There are 3 samples in valid split.\n",
      "I0906 17:04:12.110730 139767249307264 dstc2_reader.py:283] There are 3 samples in valid split.\n",
      "2019-09-06 17:04:12.111 INFO in 'deeppavlov.dataset_readers.dstc2_reader'['dstc2_reader'] at line 284: There are 3 samples in test split.\n",
      "I0906 17:04:12.111454 139767249307264 dstc2_reader.py:284] There are 3 samples in test split.\n"
     ]
    }
   ],
   "source": [
    "data = AssistantDatasetReader().read('assistant_data')"
   ]
  },
  {
   "cell_type": "code",
   "execution_count": 52,
   "metadata": {},
   "outputs": [
    {
     "name": "stdout",
     "output_type": "stream",
     "text": [
      "assistant-templates.txt  assistant-tst.json\r\n",
      "assistant-trn.json\t assistant-val.json\r\n"
     ]
    }
   ],
   "source": [
    "!ls assistant_data"
   ]
  },
  {
   "cell_type": "markdown",
   "metadata": {},
   "source": [
    "The training/validation/test data is stored in json files (`assistant-trn.json`, `assistant-val.json` and `assistant-tst.json`):"
   ]
  },
  {
   "cell_type": "code",
   "execution_count": 53,
   "metadata": {},
   "outputs": [
    {
     "name": "stdout",
     "output_type": "stream",
     "text": [
      "[\r\n",
      "  [\r\n",
      "    {\r\n",
      "      \"speaker\": 1,\r\n",
      "      \"text\": \"hi\"\r\n",
      "    },\r\n",
      "    {\r\n",
      "      \"speaker\": 2,\r\n",
      "      \"text\": \"Hello, what is the weather today?\",\r\n",
      "      \"act\": \"welcome_msg\"\r\n",
      "    },\r\n",
      "    {\r\n",
      "      \"speaker\": 1,\r\n",
      "      \"text\": \"Quite sunny outside\"\r\n",
      "    },\r\n",
      "    {\r\n",
      "      \"speaker\": 2,\r\n",
      "      \"text\": \"Then you should cycle!\",\r\n",
      "      \"act\": \"suggest_cycling\"\r\n",
      "    },\r\n",
      "    {\r\n",
      "      \"speaker\": 1,\r\n",
      "      \"text\": \"Thanks! Great idea\"\r\n",
      "    },\r\n",
      "    {\r\n",
      "      \"speaker\": 2,\r\n",
      "      \"text\": \"You are welcome! Bye!\",\r\n",
      "      \"act\": \"good_bye\"\r\n",
      "    }\r\n",
      "  ],\r\n",
      "  [\r\n"
     ]
    }
   ],
   "source": [
    "!head -n 31 assistant_data/assistant-trn.json"
   ]
  },
  {
   "cell_type": "code",
   "execution_count": 54,
   "metadata": {
    "scrolled": true
   },
   "outputs": [],
   "source": [
    "from deeppavlov.dataset_iterators.dialog_iterator import DialogDatasetIterator\n",
    "\n",
    "iterator = DialogDatasetIterator(data)"
   ]
  },
  {
   "cell_type": "markdown",
   "metadata": {},
   "source": [
    "You can now iterate over batches of preprocessed dialogs:"
   ]
  },
  {
   "cell_type": "code",
   "execution_count": 55,
   "metadata": {},
   "outputs": [
    {
     "name": "stdout",
     "output_type": "stream",
     "text": [
      "User utterances:\n",
      "----------------\n",
      "\n",
      "[   {'prev_resp_act': None, 'text': 'hey'},\n",
      "    {'prev_resp_act': 'welcome_msg', 'text': 'very dark and murky'},\n",
      "    {'prev_resp_act': 'suggest_tea', 'text': 'tea is not funny'}]\n",
      "\n",
      "System responses:\n",
      "-----------------\n",
      "\n",
      "[   {'act': 'welcome_msg', 'text': 'Hello, what is the weather today?'},\n",
      "    {'act': 'suggest_tea', 'text': 'Then you should try hot chinese tea!'},\n",
      "    {   'act': 'bad_bye',\n",
      "        'text': \"That's a pity! Next time maybe. Have a good day!\"}]\n",
      "\n",
      "-----------------\n",
      "8 dialog(s) in train.\n",
      "1 dialog(s) in valid.\n",
      "1 dialog(s) in test.\n"
     ]
    }
   ],
   "source": [
    "from pprint import pprint\n",
    "\n",
    "for dialog in iterator.gen_batches(batch_size=1, data_type='train'):\n",
    "    turns_x, turns_y = dialog\n",
    "    \n",
    "    print(\"User utterances:\\n----------------\\n\")\n",
    "    pprint(turns_x[0], indent=4)\n",
    "    print(\"\\nSystem responses:\\n-----------------\\n\")\n",
    "    pprint(turns_y[0], indent=4)\n",
    "    \n",
    "    break\n",
    "\n",
    "print(\"\\n-----------------\")    \n",
    "print(f\"{len(iterator.get_instances('train')[0])} dialog(s) in train.\")\n",
    "print(f\"{len(iterator.get_instances('valid')[0])} dialog(s) in valid.\")\n",
    "print(f\"{len(iterator.get_instances('test')[0])} dialog(s) in test.\")"
   ]
  },
  {
   "cell_type": "markdown",
   "metadata": {},
   "source": [
    "## 1. Train bot"
   ]
  },
  {
   "cell_type": "markdown",
   "metadata": {},
   "source": [
    "Let's train the main module: dialogue policy network.\n",
    "\n",
    "&nbsp;\n",
    "![gobot_simple_policy.png](img/gobot_simple_policy.png)\n",
    "&nbsp;\n",
    "\n",
    "Policy network decides which action the system should take on each turn of a dialogue: should it say goodbye, request user's location or say thanks.\n",
    "\n",
    "The policy network is a recurrent neural network (recurrent over utterances represented as bags of words) and a dense layer with softmax function on top. The network classifies user utterance into one of predefined system actions.\n",
    "\n",
    "&nbsp;\n",
    "![gobot_simple_templates.png](img/gobot_simple_templates.png)\n",
    "&nbsp;\n",
    "\n",
    "All actions available for the system should be listed in a `assistant-templates.txt` file. Each action should be associated with a string of the corresponding system response.\n",
    "\n",
    "Templates should be in the format `<act>TAB<template>`, where `<act>` is a dialogue action and `<template>` is the corresponding response."
   ]
  },
  {
   "cell_type": "code",
   "execution_count": 29,
   "metadata": {},
   "outputs": [
    {
     "name": "stdout",
     "output_type": "stream",
     "text": [
      "welcome_msg\tHello, what is the weather today?\r\n",
      "suggest_tea\tThen you should try hot chinese tea!\r\n",
      "suggest_cycling\tThen you should cycle!\r\n",
      "good_bye\tYou are welcome! Bye!\r\n",
      "bad_bye\tThat's a pity! Next time maybe. Have a good day!\r\n"
     ]
    }
   ],
   "source": [
    "!head -n 10 assistant_data/assistant-templates.txt"
   ]
  },
  {
   "cell_type": "markdown",
   "metadata": {},
   "source": [
    "So, actions are actually classes we classify over. And `assistant-templates.txt` contains the set of classes.\n",
    "\n",
    "To train the dialogue policy network for classification task you need action label for each system utterance in training dialogues. The dataset contains `\"act\"` dictionary key that contains action associated with current response.\n",
    "\n",
    "The cell below provides an example of training data for the policy network."
   ]
  },
  {
   "cell_type": "code",
   "execution_count": 56,
   "metadata": {},
   "outputs": [
    {
     "name": "stdout",
     "output_type": "stream",
     "text": [
      "[\r\n",
      "  [\r\n",
      "    {\r\n",
      "      \"speaker\": 1,\r\n",
      "      \"text\": \"hi\"\r\n",
      "    },\r\n",
      "    {\r\n",
      "      \"speaker\": 2,\r\n",
      "      \"text\": \"Hello, what is the weather today?\",\r\n",
      "      \"act\": \"welcome_msg\"\r\n",
      "    },\r\n",
      "    {\r\n",
      "      \"speaker\": 1,\r\n",
      "      \"text\": \"Quite sunny outside\"\r\n",
      "    },\r\n",
      "    {\r\n",
      "      \"speaker\": 2,\r\n",
      "      \"text\": \"Then you should cycle!\",\r\n",
      "      \"act\": \"suggest_cycling\"\r\n",
      "    },\r\n",
      "    {\r\n",
      "      \"speaker\": 1,\r\n",
      "      \"text\": \"Thanks! Great idea\"\r\n",
      "    },\r\n",
      "    {\r\n",
      "      \"speaker\": 2,\r\n",
      "      \"text\": \"You are welcome! Bye!\",\r\n",
      "      \"act\": \"good_bye\"\r\n",
      "    }\r\n",
      "  ],\r\n",
      "  [\r\n"
     ]
    }
   ],
   "source": [
    "!head -n 31 assistant_data/assistant-trn.json"
   ]
  },
  {
   "cell_type": "markdown",
   "metadata": {},
   "source": [
    "Let's **construct the final pipeline** of a dialogue system.\n",
    "\n",
    "We take [default DSTC2 bot config](https://github.com/deepmipt/DeepPavlov/blob/master/deeppavlov/configs/go_bot/gobot_dstc2.json) ([more configs](https://github.com/deepmipt/DeepPavlov/blob/master/deeppavlov/configs/go_bot) are available) and change sections responsible for \n",
    "- templates,\n",
    "- embeddings,\n",
    "- data and model load/save paths."
   ]
  },
  {
   "cell_type": "code",
   "execution_count": 57,
   "metadata": {},
   "outputs": [],
   "source": [
    "from deeppavlov import configs\n",
    "from deeppavlov.core.common.file import read_json\n",
    "\n",
    "gobot_config = read_json(configs.go_bot.gobot_dstc2_minimal)"
   ]
  },
  {
   "cell_type": "markdown",
   "metadata": {},
   "source": [
    "**Configure** bot to use **templates**:"
   ]
  },
  {
   "cell_type": "code",
   "execution_count": 58,
   "metadata": {},
   "outputs": [],
   "source": [
    "gobot_config['chainer']['pipe'][-1]['template_path'] = 'assistant_data/assistant-templates.txt'"
   ]
  },
  {
   "cell_type": "markdown",
   "metadata": {},
   "source": [
    "You should use pretrained **glove embeddings** (trainable embeddings are default):"
   ]
  },
  {
   "cell_type": "code",
   "execution_count": 59,
   "metadata": {},
   "outputs": [
    {
     "name": "stderr",
     "output_type": "stream",
     "text": [
      "2019-09-06 17:12:33.155 INFO in 'deeppavlov.download'['download'] at line 117: Skipped http://files.deeppavlov.ai/embeddings/glove.6B.100d.txt download because of matching hashes\n",
      "I0906 17:12:33.155169 139767249307264 download.py:117] Skipped http://files.deeppavlov.ai/embeddings/glove.6B.100d.txt download because of matching hashes\n"
     ]
    }
   ],
   "source": [
    "from deeppavlov.download import download_resource\n",
    "\n",
    "download_resource(url=\"http://files.deeppavlov.ai/embeddings/glove.6B.100d.txt\",\n",
    "                  dest_paths=['assistant_bot/'])"
   ]
  },
  {
   "cell_type": "code",
   "execution_count": 60,
   "metadata": {},
   "outputs": [],
   "source": [
    "gobot_config['chainer']['pipe'][-1]['embedder'] = {\n",
    "    \"class_name\": \"glove\",\n",
    "    \"load_path\": \"assistant_bot/glove.6B.100d.txt\"\n",
    "}"
   ]
  },
  {
   "cell_type": "markdown",
   "metadata": {},
   "source": [
    "Specify train/valid/test **data path** and **path to save** the final bot model:"
   ]
  },
  {
   "cell_type": "code",
   "execution_count": 61,
   "metadata": {},
   "outputs": [],
   "source": [
    "gobot_config['dataset_reader']['class_name'] = '__main__:AssistantDatasetReader'\n",
    "gobot_config['metadata']['variables']['DATA_PATH'] = 'assistant_data'\n",
    "\n",
    "gobot_config['metadata']['variables']['MODEL_PATH'] = 'assistant_bot'"
   ]
  },
  {
   "cell_type": "markdown",
   "metadata": {},
   "source": [
    "The whole dialogue system pipeline looks like this:\n",
    "    \n",
    "![gobot_simple_pipeline.png](img/gobot_simple_pipeline.png)"
   ]
  },
  {
   "cell_type": "markdown",
   "metadata": {},
   "source": [
    "##### Training policy network"
   ]
  },
  {
   "cell_type": "code",
   "execution_count": 62,
   "metadata": {},
   "outputs": [
    {
     "name": "stderr",
     "output_type": "stream",
     "text": [
      "2019-09-06 18:00:43.348 INFO in 'deeppavlov.dataset_readers.dstc2_reader'['dstc2_reader'] at line 290: [loading dialogs from /home/vimary/code-projects/Pilot/examples/assistant_data/assistant-trn.json]\n",
      "I0906 18:00:43.348532 139767249307264 dstc2_reader.py:290] [loading dialogs from /home/vimary/code-projects/Pilot/examples/assistant_data/assistant-trn.json]\n",
      "2019-09-06 18:00:43.349 INFO in 'deeppavlov.dataset_readers.dstc2_reader'['dstc2_reader'] at line 290: [loading dialogs from /home/vimary/code-projects/Pilot/examples/assistant_data/assistant-val.json]\n",
      "I0906 18:00:43.349636 139767249307264 dstc2_reader.py:290] [loading dialogs from /home/vimary/code-projects/Pilot/examples/assistant_data/assistant-val.json]\n",
      "2019-09-06 18:00:43.350 INFO in 'deeppavlov.dataset_readers.dstc2_reader'['dstc2_reader'] at line 290: [loading dialogs from /home/vimary/code-projects/Pilot/examples/assistant_data/assistant-tst.json]\n",
      "I0906 18:00:43.350584 139767249307264 dstc2_reader.py:290] [loading dialogs from /home/vimary/code-projects/Pilot/examples/assistant_data/assistant-tst.json]\n",
      "2019-09-06 18:00:43.351 INFO in 'deeppavlov.dataset_readers.dstc2_reader'['dstc2_reader'] at line 282: There are 24 samples in train split.\n",
      "I0906 18:00:43.351344 139767249307264 dstc2_reader.py:282] There are 24 samples in train split.\n",
      "2019-09-06 18:00:43.351 INFO in 'deeppavlov.dataset_readers.dstc2_reader'['dstc2_reader'] at line 283: There are 3 samples in valid split.\n",
      "I0906 18:00:43.351964 139767249307264 dstc2_reader.py:283] There are 3 samples in valid split.\n",
      "2019-09-06 18:00:43.352 INFO in 'deeppavlov.dataset_readers.dstc2_reader'['dstc2_reader'] at line 284: There are 3 samples in test split.\n",
      "I0906 18:00:43.352570 139767249307264 dstc2_reader.py:284] There are 3 samples in test split.\n",
      "2019-09-06 18:00:43.354 INFO in 'deeppavlov.core.data.simple_vocab'['simple_vocab'] at line 112: [loading vocabulary from /home/vimary/code-projects/Pilot/examples/assistant_bot/word.dict]\n",
      "I0906 18:00:43.354861 139767249307264 simple_vocab.py:112] [loading vocabulary from /home/vimary/code-projects/Pilot/examples/assistant_bot/word.dict]\n",
      "2019-09-06 18:00:43.357 INFO in 'deeppavlov.core.data.simple_vocab'['simple_vocab'] at line 98: [saving vocabulary to /home/vimary/code-projects/Pilot/examples/assistant_bot/word.dict]\n",
      "I0906 18:00:43.357157 139767249307264 simple_vocab.py:98] [saving vocabulary to /home/vimary/code-projects/Pilot/examples/assistant_bot/word.dict]\n",
      "2019-09-06 18:00:43.359 INFO in 'deeppavlov.models.embedders.glove_embedder'['glove_embedder'] at line 52: [loading GloVe embeddings from `/home/vimary/code-projects/Pilot/examples/assistant_bot/glove.6B.100d.txt`]\n",
      "I0906 18:00:43.359181 139767249307264 glove_embedder.py:52] [loading GloVe embeddings from `/home/vimary/code-projects/Pilot/examples/assistant_bot/glove.6B.100d.txt`]\n",
      "/home/vimary/dp_env/lib/python3.7/site-packages/smart_open/smart_open_lib.py:398: UserWarning: This function is deprecated, use smart_open.open instead. See the migration notes for details: https://github.com/RaRe-Technologies/smart_open/blob/master/README.rst#migrating-to-the-new-open-function\n",
      "  'See the migration notes for details: %s' % _MIGRATION_NOTES_URL\n",
      "2019-09-06 18:01:07.878 INFO in 'deeppavlov.models.go_bot.network'['network'] at line 161: [loading templates from /home/vimary/code-projects/Pilot/examples/assistant_data/assistant-templates.txt]\n",
      "I0906 18:01:07.878018 139767249307264 network.py:161] [loading templates from /home/vimary/code-projects/Pilot/examples/assistant_data/assistant-templates.txt]\n",
      "2019-09-06 18:01:07.879 INFO in 'deeppavlov.models.go_bot.network'['network'] at line 164: 5 templates loaded.\n",
      "I0906 18:01:07.879333 139767249307264 network.py:164] 5 templates loaded.\n",
      "2019-09-06 18:01:07.880 INFO in 'deeppavlov.models.go_bot.network'['network'] at line 210: Calculated input size for `GoalOrientedBotNetwork` is 129\n",
      "I0906 18:01:07.880202 139767249307264 network.py:210] Calculated input size for `GoalOrientedBotNetwork` is 129\n",
      "2019-09-06 18:01:08.357 INFO in 'deeppavlov.models.go_bot.network'['network'] at line 248: [initializing `GoalOrientedBot` from saved]\n",
      "I0906 18:01:08.357067 139767249307264 network.py:248] [initializing `GoalOrientedBot` from saved]\n",
      "2019-09-06 18:01:08.358 INFO in 'deeppavlov.models.go_bot.network'['network'] at line 763: [loading parameters from /home/vimary/code-projects/Pilot/examples/assistant_bot/model.json]\n",
      "I0906 18:01:08.358291 139767249307264 network.py:763] [loading parameters from /home/vimary/code-projects/Pilot/examples/assistant_bot/model.json]\n",
      "2019-09-06 18:01:08.360 INFO in 'deeppavlov.core.models.tf_model'['tf_model'] at line 52: [loading model from /home/vimary/code-projects/Pilot/examples/assistant_bot/model]\n",
      "I0906 18:01:08.360025 139767249307264 tf_model.py:52] [loading model from /home/vimary/code-projects/Pilot/examples/assistant_bot/model]\n",
      "2019-09-06 18:01:08.449 INFO in 'deeppavlov.core.trainers.nn_trainer'['nn_trainer'] at line 164: New best per_item_dialog_accuracy of 1.0\n",
      "I0906 18:01:08.449833 139767249307264 nn_trainer.py:164] New best per_item_dialog_accuracy of 1.0\n",
      "2019-09-06 18:01:08.450 INFO in 'deeppavlov.core.trainers.nn_trainer'['nn_trainer'] at line 166: Saving model\n",
      "I0906 18:01:08.450659 139767249307264 nn_trainer.py:166] Saving model\n",
      "2019-09-06 18:01:08.452 INFO in 'deeppavlov.core.models.tf_model'['tf_model'] at line 76: [saving model to /home/vimary/code-projects/Pilot/examples/assistant_bot/model]\n",
      "I0906 18:01:08.452073 139767249307264 tf_model.py:76] [saving model to /home/vimary/code-projects/Pilot/examples/assistant_bot/model]\n",
      "2019-09-06 18:01:08.528 INFO in 'deeppavlov.models.go_bot.network'['network'] at line 757: [saving parameters to /home/vimary/code-projects/Pilot/examples/assistant_bot/model.json]\n",
      "I0906 18:01:08.528757 139767249307264 network.py:757] [saving parameters to /home/vimary/code-projects/Pilot/examples/assistant_bot/model.json]\n"
     ]
    },
    {
     "name": "stdout",
     "output_type": "stream",
     "text": [
      "{\"valid\": {\"eval_examples_count\": 1, \"metrics\": {\"per_item_dialog_accuracy\": 1.0}, \"time_spent\": \"0:00:01\", \"epochs_done\": 0, \"batches_seen\": 0, \"train_examples_seen\": 0, \"impatience\": 0, \"patience_limit\": 10}}\n",
      "{\"train\": {\"eval_examples_count\": 8, \"metrics\": {\"per_item_dialog_accuracy\": 1.0}, \"time_spent\": \"0:00:01\", \"epochs_done\": 2, \"batches_seen\": 5, \"train_examples_seen\": 20, \"learning_rate\": 0.003, \"momentum\": 0.95, \"loss\": 0.08294930309057236}}\n",
      "{\"train\": {\"eval_examples_count\": 8, \"metrics\": {\"per_item_dialog_accuracy\": 1.0}, \"time_spent\": \"0:00:01\", \"epochs_done\": 4, \"batches_seen\": 10, \"train_examples_seen\": 40, \"learning_rate\": 0.003, \"momentum\": 0.95, \"loss\": 0.0416302278637886}}\n",
      "{\"train\": {\"eval_examples_count\": 8, \"metrics\": {\"per_item_dialog_accuracy\": 1.0}, \"time_spent\": \"0:00:01\", \"epochs_done\": 7, \"batches_seen\": 15, \"train_examples_seen\": 60, \"learning_rate\": 0.003, \"momentum\": 0.95, \"loss\": 0.03172624669969082}}\n",
      "{\"train\": {\"eval_examples_count\": 8, \"metrics\": {\"per_item_dialog_accuracy\": 1.0}, \"time_spent\": \"0:00:01\", \"epochs_done\": 9, \"batches_seen\": 20, \"train_examples_seen\": 80, \"learning_rate\": 0.003, \"momentum\": 0.95, \"loss\": 0.02829187884926796}}\n"
     ]
    },
    {
     "name": "stderr",
     "output_type": "stream",
     "text": [
      "2019-09-06 18:01:09.704 INFO in 'deeppavlov.core.trainers.nn_trainer'['nn_trainer'] at line 170: Did not improve on the per_item_dialog_accuracy of 1.0\n",
      "I0906 18:01:09.704594 139767249307264 nn_trainer.py:170] Did not improve on the per_item_dialog_accuracy of 1.0\n"
     ]
    },
    {
     "name": "stdout",
     "output_type": "stream",
     "text": [
      "{\"train\": {\"eval_examples_count\": 8, \"metrics\": {\"per_item_dialog_accuracy\": 1.0}, \"time_spent\": \"0:00:02\", \"epochs_done\": 12, \"batches_seen\": 25, \"train_examples_seen\": 100, \"learning_rate\": 0.003, \"momentum\": 0.95, \"loss\": 0.027604592964053154}}\n",
      "{\"train\": {\"eval_examples_count\": 8, \"metrics\": {\"per_item_dialog_accuracy\": 1.0}, \"time_spent\": \"0:00:02\", \"epochs_done\": 14, \"batches_seen\": 30, \"train_examples_seen\": 120, \"learning_rate\": 0.003, \"momentum\": 0.95, \"loss\": 0.02618459761142731}}\n",
      "{\"valid\": {\"eval_examples_count\": 1, \"metrics\": {\"per_item_dialog_accuracy\": 1.0}, \"time_spent\": \"0:00:02\", \"epochs_done\": 14, \"batches_seen\": 30, \"train_examples_seen\": 120, \"impatience\": 1, \"patience_limit\": 10}}\n"
     ]
    },
    {
     "name": "stderr",
     "output_type": "stream",
     "text": [
      "2019-09-06 18:01:09.752 INFO in 'deeppavlov.core.data.simple_vocab'['simple_vocab'] at line 112: [loading vocabulary from /home/vimary/code-projects/Pilot/examples/assistant_bot/word.dict]\n",
      "I0906 18:01:09.752158 139767249307264 simple_vocab.py:112] [loading vocabulary from /home/vimary/code-projects/Pilot/examples/assistant_bot/word.dict]\n",
      "2019-09-06 18:01:09.754 INFO in 'deeppavlov.models.embedders.glove_embedder'['glove_embedder'] at line 52: [loading GloVe embeddings from `/home/vimary/code-projects/Pilot/examples/assistant_bot/glove.6B.100d.txt`]\n",
      "I0906 18:01:09.754283 139767249307264 glove_embedder.py:52] [loading GloVe embeddings from `/home/vimary/code-projects/Pilot/examples/assistant_bot/glove.6B.100d.txt`]\n",
      "/home/vimary/dp_env/lib/python3.7/site-packages/smart_open/smart_open_lib.py:398: UserWarning: This function is deprecated, use smart_open.open instead. See the migration notes for details: https://github.com/RaRe-Technologies/smart_open/blob/master/README.rst#migrating-to-the-new-open-function\n",
      "  'See the migration notes for details: %s' % _MIGRATION_NOTES_URL\n",
      "2019-09-06 18:01:34.507 INFO in 'deeppavlov.models.go_bot.network'['network'] at line 161: [loading templates from /home/vimary/code-projects/Pilot/examples/assistant_data/assistant-templates.txt]\n",
      "I0906 18:01:34.507813 139767249307264 network.py:161] [loading templates from /home/vimary/code-projects/Pilot/examples/assistant_data/assistant-templates.txt]\n",
      "2019-09-06 18:01:34.508 INFO in 'deeppavlov.models.go_bot.network'['network'] at line 164: 5 templates loaded.\n",
      "I0906 18:01:34.508750 139767249307264 network.py:164] 5 templates loaded.\n",
      "2019-09-06 18:01:34.509 INFO in 'deeppavlov.models.go_bot.network'['network'] at line 210: Calculated input size for `GoalOrientedBotNetwork` is 129\n",
      "I0906 18:01:34.509379 139767249307264 network.py:210] Calculated input size for `GoalOrientedBotNetwork` is 129\n",
      "2019-09-06 18:01:34.979 INFO in 'deeppavlov.models.go_bot.network'['network'] at line 248: [initializing `GoalOrientedBot` from saved]\n",
      "I0906 18:01:34.979373 139767249307264 network.py:248] [initializing `GoalOrientedBot` from saved]\n",
      "2019-09-06 18:01:34.980 INFO in 'deeppavlov.models.go_bot.network'['network'] at line 763: [loading parameters from /home/vimary/code-projects/Pilot/examples/assistant_bot/model.json]\n",
      "I0906 18:01:34.980510 139767249307264 network.py:763] [loading parameters from /home/vimary/code-projects/Pilot/examples/assistant_bot/model.json]\n",
      "2019-09-06 18:01:34.981 INFO in 'deeppavlov.core.models.tf_model'['tf_model'] at line 52: [loading model from /home/vimary/code-projects/Pilot/examples/assistant_bot/model]\n",
      "I0906 18:01:34.981867 139767249307264 tf_model.py:52] [loading model from /home/vimary/code-projects/Pilot/examples/assistant_bot/model]\n",
      "2019-09-06 18:01:35.113 INFO in 'deeppavlov.core.data.simple_vocab'['simple_vocab'] at line 112: [loading vocabulary from /home/vimary/code-projects/Pilot/examples/assistant_bot/word.dict]\n",
      "I0906 18:01:35.113041 139767249307264 simple_vocab.py:112] [loading vocabulary from /home/vimary/code-projects/Pilot/examples/assistant_bot/word.dict]\n",
      "2019-09-06 18:01:35.114 INFO in 'deeppavlov.models.embedders.glove_embedder'['glove_embedder'] at line 52: [loading GloVe embeddings from `/home/vimary/code-projects/Pilot/examples/assistant_bot/glove.6B.100d.txt`]\n",
      "I0906 18:01:35.114286 139767249307264 glove_embedder.py:52] [loading GloVe embeddings from `/home/vimary/code-projects/Pilot/examples/assistant_bot/glove.6B.100d.txt`]\n",
      "/home/vimary/dp_env/lib/python3.7/site-packages/smart_open/smart_open_lib.py:398: UserWarning: This function is deprecated, use smart_open.open instead. See the migration notes for details: https://github.com/RaRe-Technologies/smart_open/blob/master/README.rst#migrating-to-the-new-open-function\n",
      "  'See the migration notes for details: %s' % _MIGRATION_NOTES_URL\n"
     ]
    },
    {
     "name": "stdout",
     "output_type": "stream",
     "text": [
      "{\"valid\": {\"eval_examples_count\": 1, \"metrics\": {\"per_item_dialog_accuracy\": 1.0}, \"time_spent\": \"0:00:01\"}}\n",
      "{\"test\": {\"eval_examples_count\": 1, \"metrics\": {\"per_item_dialog_accuracy\": 1.0}, \"time_spent\": \"0:00:01\"}}\n"
     ]
    },
    {
     "name": "stderr",
     "output_type": "stream",
     "text": [
      "2019-09-06 18:01:59.966 INFO in 'deeppavlov.models.go_bot.network'['network'] at line 161: [loading templates from /home/vimary/code-projects/Pilot/examples/assistant_data/assistant-templates.txt]\n",
      "I0906 18:01:59.966386 139767249307264 network.py:161] [loading templates from /home/vimary/code-projects/Pilot/examples/assistant_data/assistant-templates.txt]\n",
      "2019-09-06 18:01:59.967 INFO in 'deeppavlov.models.go_bot.network'['network'] at line 164: 5 templates loaded.\n",
      "I0906 18:01:59.967494 139767249307264 network.py:164] 5 templates loaded.\n",
      "2019-09-06 18:01:59.968 INFO in 'deeppavlov.models.go_bot.network'['network'] at line 210: Calculated input size for `GoalOrientedBotNetwork` is 129\n",
      "I0906 18:01:59.968229 139767249307264 network.py:210] Calculated input size for `GoalOrientedBotNetwork` is 129\n",
      "2019-09-06 18:02:00.482 INFO in 'deeppavlov.models.go_bot.network'['network'] at line 248: [initializing `GoalOrientedBot` from saved]\n",
      "I0906 18:02:00.482819 139767249307264 network.py:248] [initializing `GoalOrientedBot` from saved]\n",
      "2019-09-06 18:02:00.483 INFO in 'deeppavlov.models.go_bot.network'['network'] at line 763: [loading parameters from /home/vimary/code-projects/Pilot/examples/assistant_bot/model.json]\n",
      "I0906 18:02:00.483929 139767249307264 network.py:763] [loading parameters from /home/vimary/code-projects/Pilot/examples/assistant_bot/model.json]\n",
      "2019-09-06 18:02:00.486 INFO in 'deeppavlov.core.models.tf_model'['tf_model'] at line 52: [loading model from /home/vimary/code-projects/Pilot/examples/assistant_bot/model]\n",
      "I0906 18:02:00.486897 139767249307264 tf_model.py:52] [loading model from /home/vimary/code-projects/Pilot/examples/assistant_bot/model]\n"
     ]
    }
   ],
   "source": [
    "from deeppavlov import train_model\n",
    "\n",
    "gobot_config['train']['batch_size'] = 4 # set batch size\n",
    "gobot_config['train']['max_batches'] = 30 # maximum number of training batches\n",
    "gobot_config['train']['val_every_n_batches'] = 30 # evaluate on full 'valid' split every 30 epochs\n",
    "gobot_config['train']['log_every_n_batches'] = 5 # evaluate on full 'train' split every 5 batches\n",
    "\n",
    "train_model(gobot_config);"
   ]
  },
  {
   "cell_type": "markdown",
   "metadata": {},
   "source": [
    "Training on the dataset takes up to 5 minutes depending on gpu/cpu.\n",
    "\n",
    "See [config doc page](http://docs.deeppavlov.ai/en/master/intro/configuration.html) for advanced configuration of the training process."
   ]
  },
  {
   "cell_type": "markdown",
   "metadata": {},
   "source": [
    "##### Metric scores on valid&test"
   ]
  },
  {
   "cell_type": "markdown",
   "metadata": {},
   "source": [
    "Calculating **accuracy** of trained bot: whether predicted system responses match true responses (full string match)."
   ]
  },
  {
   "cell_type": "code",
   "execution_count": 37,
   "metadata": {
    "scrolled": true
   },
   "outputs": [
    {
     "name": "stderr",
     "output_type": "stream",
     "text": [
      "2019-09-06 15:04:24.832 INFO in 'deeppavlov.dataset_readers.dstc2_reader'['dstc2_reader'] at line 290: [loading dialogs from /home/vimary/code-projects/Pilot/examples/assistant_data/assistant-trn.json]\n",
      "I0906 15:04:24.832241 139767249307264 dstc2_reader.py:290] [loading dialogs from /home/vimary/code-projects/Pilot/examples/assistant_data/assistant-trn.json]\n",
      "2019-09-06 15:04:24.833 INFO in 'deeppavlov.dataset_readers.dstc2_reader'['dstc2_reader'] at line 290: [loading dialogs from /home/vimary/code-projects/Pilot/examples/assistant_data/assistant-val.json]\n",
      "I0906 15:04:24.833665 139767249307264 dstc2_reader.py:290] [loading dialogs from /home/vimary/code-projects/Pilot/examples/assistant_data/assistant-val.json]\n",
      "2019-09-06 15:04:24.834 INFO in 'deeppavlov.dataset_readers.dstc2_reader'['dstc2_reader'] at line 290: [loading dialogs from /home/vimary/code-projects/Pilot/examples/assistant_data/assistant-tst.json]\n",
      "I0906 15:04:24.834707 139767249307264 dstc2_reader.py:290] [loading dialogs from /home/vimary/code-projects/Pilot/examples/assistant_data/assistant-tst.json]\n",
      "2019-09-06 15:04:24.835 INFO in 'deeppavlov.dataset_readers.dstc2_reader'['dstc2_reader'] at line 282: There are 24 samples in train split.\n",
      "I0906 15:04:24.835580 139767249307264 dstc2_reader.py:282] There are 24 samples in train split.\n",
      "2019-09-06 15:04:24.836 INFO in 'deeppavlov.dataset_readers.dstc2_reader'['dstc2_reader'] at line 283: There are 3 samples in valid split.\n",
      "I0906 15:04:24.836291 139767249307264 dstc2_reader.py:283] There are 3 samples in valid split.\n",
      "2019-09-06 15:04:24.836 INFO in 'deeppavlov.dataset_readers.dstc2_reader'['dstc2_reader'] at line 284: There are 3 samples in test split.\n",
      "I0906 15:04:24.836941 139767249307264 dstc2_reader.py:284] There are 3 samples in test split.\n",
      "2019-09-06 15:04:24.838 INFO in 'deeppavlov.core.data.simple_vocab'['simple_vocab'] at line 112: [loading vocabulary from /home/vimary/code-projects/Pilot/examples/assistant_bot/word.dict]\n",
      "I0906 15:04:24.838498 139767249307264 simple_vocab.py:112] [loading vocabulary from /home/vimary/code-projects/Pilot/examples/assistant_bot/word.dict]\n",
      "2019-09-06 15:04:24.839 INFO in 'deeppavlov.models.embedders.glove_embedder'['glove_embedder'] at line 52: [loading GloVe embeddings from `/home/vimary/code-projects/Pilot/examples/assistant_bot/glove.6B.100d.txt`]\n",
      "I0906 15:04:24.839559 139767249307264 glove_embedder.py:52] [loading GloVe embeddings from `/home/vimary/code-projects/Pilot/examples/assistant_bot/glove.6B.100d.txt`]\n",
      "/home/vimary/dp_env/lib/python3.7/site-packages/smart_open/smart_open_lib.py:398: UserWarning: This function is deprecated, use smart_open.open instead. See the migration notes for details: https://github.com/RaRe-Technologies/smart_open/blob/master/README.rst#migrating-to-the-new-open-function\n",
      "  'See the migration notes for details: %s' % _MIGRATION_NOTES_URL\n",
      "2019-09-06 15:04:49.766 INFO in 'deeppavlov.models.go_bot.network'['network'] at line 161: [loading templates from /home/vimary/code-projects/Pilot/examples/assistant_data/assistant-templates.txt]\n",
      "I0906 15:04:49.766979 139767249307264 network.py:161] [loading templates from /home/vimary/code-projects/Pilot/examples/assistant_data/assistant-templates.txt]\n",
      "2019-09-06 15:04:49.768 INFO in 'deeppavlov.models.go_bot.network'['network'] at line 164: 5 templates loaded.\n",
      "I0906 15:04:49.768066 139767249307264 network.py:164] 5 templates loaded.\n",
      "2019-09-06 15:04:49.768 INFO in 'deeppavlov.models.go_bot.network'['network'] at line 210: Calculated input size for `GoalOrientedBotNetwork` is 129\n",
      "I0906 15:04:49.768893 139767249307264 network.py:210] Calculated input size for `GoalOrientedBotNetwork` is 129\n",
      "2019-09-06 15:04:50.423 INFO in 'deeppavlov.models.go_bot.network'['network'] at line 248: [initializing `GoalOrientedBot` from saved]\n",
      "I0906 15:04:50.423538 139767249307264 network.py:248] [initializing `GoalOrientedBot` from saved]\n",
      "2019-09-06 15:04:50.424 INFO in 'deeppavlov.models.go_bot.network'['network'] at line 763: [loading parameters from /home/vimary/code-projects/Pilot/examples/assistant_bot/model.json]\n",
      "I0906 15:04:50.424888 139767249307264 network.py:763] [loading parameters from /home/vimary/code-projects/Pilot/examples/assistant_bot/model.json]\n",
      "2019-09-06 15:04:50.426 INFO in 'deeppavlov.core.models.tf_model'['tf_model'] at line 52: [loading model from /home/vimary/code-projects/Pilot/examples/assistant_bot/model]\n",
      "I0906 15:04:50.426500 139767249307264 tf_model.py:52] [loading model from /home/vimary/code-projects/Pilot/examples/assistant_bot/model]\n"
     ]
    },
    {
     "name": "stdout",
     "output_type": "stream",
     "text": [
      "{\"valid\": {\"eval_examples_count\": 1, \"metrics\": {\"per_item_dialog_accuracy\": 1.0}, \"time_spent\": \"0:00:01\"}}\n",
      "{\"test\": {\"eval_examples_count\": 1, \"metrics\": {\"per_item_dialog_accuracy\": 1.0}, \"time_spent\": \"0:00:01\"}}\n"
     ]
    }
   ],
   "source": [
    "from deeppavlov import evaluate_model\n",
    "\n",
    "evaluate_model(gobot_config);"
   ]
  },
  {
   "cell_type": "markdown",
   "metadata": {},
   "source": [
    "With settings of `max_batches=30`, system response accuracy on valid and test equals `1.0` (with valid and test dialogues consisting of 1 dialogue each)."
   ]
  },
  {
   "cell_type": "markdown",
   "metadata": {},
   "source": [
    "##### Chatting with bot"
   ]
  },
  {
   "cell_type": "code",
   "execution_count": 38,
   "metadata": {},
   "outputs": [
    {
     "name": "stderr",
     "output_type": "stream",
     "text": [
      "2019-09-06 15:04:50.566 INFO in 'deeppavlov.core.data.simple_vocab'['simple_vocab'] at line 112: [loading vocabulary from /home/vimary/code-projects/Pilot/examples/assistant_bot/word.dict]\n",
      "I0906 15:04:50.566690 139767249307264 simple_vocab.py:112] [loading vocabulary from /home/vimary/code-projects/Pilot/examples/assistant_bot/word.dict]\n",
      "2019-09-06 15:04:50.568 INFO in 'deeppavlov.models.embedders.glove_embedder'['glove_embedder'] at line 52: [loading GloVe embeddings from `/home/vimary/code-projects/Pilot/examples/assistant_bot/glove.6B.100d.txt`]\n",
      "I0906 15:04:50.568121 139767249307264 glove_embedder.py:52] [loading GloVe embeddings from `/home/vimary/code-projects/Pilot/examples/assistant_bot/glove.6B.100d.txt`]\n",
      "/home/vimary/dp_env/lib/python3.7/site-packages/smart_open/smart_open_lib.py:398: UserWarning: This function is deprecated, use smart_open.open instead. See the migration notes for details: https://github.com/RaRe-Technologies/smart_open/blob/master/README.rst#migrating-to-the-new-open-function\n",
      "  'See the migration notes for details: %s' % _MIGRATION_NOTES_URL\n",
      "2019-09-06 15:05:15.370 INFO in 'deeppavlov.models.go_bot.network'['network'] at line 161: [loading templates from /home/vimary/code-projects/Pilot/examples/assistant_data/assistant-templates.txt]\n",
      "I0906 15:05:15.370250 139767249307264 network.py:161] [loading templates from /home/vimary/code-projects/Pilot/examples/assistant_data/assistant-templates.txt]\n",
      "2019-09-06 15:05:15.371 INFO in 'deeppavlov.models.go_bot.network'['network'] at line 164: 5 templates loaded.\n",
      "I0906 15:05:15.371068 139767249307264 network.py:164] 5 templates loaded.\n",
      "2019-09-06 15:05:15.371 INFO in 'deeppavlov.models.go_bot.network'['network'] at line 210: Calculated input size for `GoalOrientedBotNetwork` is 129\n",
      "I0906 15:05:15.371770 139767249307264 network.py:210] Calculated input size for `GoalOrientedBotNetwork` is 129\n",
      "2019-09-06 15:05:15.867 INFO in 'deeppavlov.models.go_bot.network'['network'] at line 248: [initializing `GoalOrientedBot` from saved]\n",
      "I0906 15:05:15.867253 139767249307264 network.py:248] [initializing `GoalOrientedBot` from saved]\n",
      "2019-09-06 15:05:15.868 INFO in 'deeppavlov.models.go_bot.network'['network'] at line 763: [loading parameters from /home/vimary/code-projects/Pilot/examples/assistant_bot/model.json]\n",
      "I0906 15:05:15.868118 139767249307264 network.py:763] [loading parameters from /home/vimary/code-projects/Pilot/examples/assistant_bot/model.json]\n",
      "2019-09-06 15:05:15.871 INFO in 'deeppavlov.core.models.tf_model'['tf_model'] at line 52: [loading model from /home/vimary/code-projects/Pilot/examples/assistant_bot/model]\n",
      "I0906 15:05:15.871333 139767249307264 tf_model.py:52] [loading model from /home/vimary/code-projects/Pilot/examples/assistant_bot/model]\n"
     ]
    }
   ],
   "source": [
    "from deeppavlov import build_model\n",
    "\n",
    "bot = build_model(gobot_config)"
   ]
  },
  {
   "cell_type": "code",
   "execution_count": 39,
   "metadata": {},
   "outputs": [
    {
     "data": {
      "text/plain": [
       "['Hello, what is the weather today?']"
      ]
     },
     "execution_count": 39,
     "metadata": {},
     "output_type": "execute_result"
    }
   ],
   "source": [
    "bot(['good evening, bot'])"
   ]
  },
  {
   "cell_type": "code",
   "execution_count": 40,
   "metadata": {},
   "outputs": [
    {
     "data": {
      "text/plain": [
       "['Then you should try hot chinese tea!']"
      ]
     },
     "execution_count": 40,
     "metadata": {},
     "output_type": "execute_result"
    }
   ],
   "source": [
    "bot(['the weather is clooudy and gloooomy'])"
   ]
  },
  {
   "cell_type": "code",
   "execution_count": 41,
   "metadata": {},
   "outputs": [
    {
     "data": {
      "text/plain": [
       "['You are welcome! Bye!']"
      ]
     },
     "execution_count": 41,
     "metadata": {},
     "output_type": "execute_result"
    }
   ],
   "source": [
    "bot([\"nice idea, thanks!\"])"
   ]
  },
  {
   "cell_type": "code",
   "execution_count": 42,
   "metadata": {},
   "outputs": [],
   "source": [
    "bot.reset()"
   ]
  },
  {
   "cell_type": "code",
   "execution_count": 43,
   "metadata": {},
   "outputs": [
    {
     "data": {
      "text/plain": [
       "['Hello, what is the weather today?']"
      ]
     },
     "execution_count": 43,
     "metadata": {},
     "output_type": "execute_result"
    }
   ],
   "source": [
    "bot(['hi bot'])"
   ]
  },
  {
   "cell_type": "code",
   "execution_count": 44,
   "metadata": {},
   "outputs": [
    {
     "data": {
      "text/plain": [
       "['Then you should cycle!']"
      ]
     },
     "execution_count": 44,
     "metadata": {},
     "output_type": "execute_result"
    }
   ],
   "source": [
    "bot([\"looks ok, the sun is bright and yesterday's rain stopped already\"])"
   ]
  },
  {
   "cell_type": "code",
   "execution_count": 45,
   "metadata": {},
   "outputs": [
    {
     "data": {
      "text/plain": [
       "[\"That's a pity! Next time maybe. Have a good day!\"]"
      ]
     },
     "execution_count": 45,
     "metadata": {},
     "output_type": "execute_result"
    }
   ],
   "source": [
    "bot(['i dont wanna'])"
   ]
  },
  {
   "cell_type": "code",
   "execution_count": null,
   "metadata": {},
   "outputs": [],
   "source": []
  }
 ],
 "metadata": {
  "kernelspec": {
   "display_name": "Python (dp_env)",
   "language": "python",
   "name": "dp_env"
  },
  "language_info": {
   "codemirror_mode": {
    "name": "ipython",
    "version": 3
   },
   "file_extension": ".py",
   "mimetype": "text/x-python",
   "name": "python",
   "nbconvert_exporter": "python",
   "pygments_lexer": "ipython3",
   "version": "3.7.3"
  }
 },
 "nbformat": 4,
 "nbformat_minor": 2
}
