{
 "cells": [
  {
   "cell_type": "markdown",
   "metadata": {},
   "source": [
    "# Introduction to DeepPavlov\n",
    "In this tutorial we will learn how to install and construct a simple bot based on pattern matching and the library abstactions."
   ]
  },
  {
   "cell_type": "markdown",
   "metadata": {},
   "source": [
    "### Libraries\n",
    "\n",
    "For this task you will need the following libraries:\n",
    " - [Tensorflow](https://www.tensorflow.org) — an open-source software library for Machine Intelligence.\n",
    " - [Numpy](http://www.numpy.org) — a package for scientific computing.\n",
    " - [DeepPavlov](https://github.com/deepmipt/deeppavlov) - open source library for Natural Language Processing\n",
    " \n"
   ]
  },
  {
   "cell_type": "markdown",
   "metadata": {},
   "source": [
    "# Installation of DeepPavlov library\n",
    "\n",
    "Currently only Linux platform and Python 3.6 is supported\n",
    "\n",
    "- Create a virtual environment with Python 3.6\n",
    "\n",
    "    `virtualenv -p python3.6 env`\n",
    "\n",
    "- Activate the environment.\n",
    "\n",
    "    `source ./env/bin/activate`\n",
    "\n",
    "- Clone the repo and cd to project root\n",
    "\n",
    "    `git clone https://github.com/deepmipt/DeepPavlov.git`\n",
    "    \n",
    "    `cd DeepPavlov`\n",
    "\n",
    "- Install the requirements:\n",
    "\n",
    "    `python setup.py develop`\n",
    "\n",
    "- Install spacy dependencies:\n",
    "\n",
    "    `python -m spacy download en`\n",
    "\n"
   ]
  },
  {
   "cell_type": "markdown",
   "metadata": {},
   "source": [
    "# Install the library on Windows using Docker\n",
    "\n",
    "First, install the Docker following these instructions:\n",
    "\n",
    "https://docs.docker.com/docker-for-windows/install\n",
    "\n",
    "Then go to console and get the container with the following command:\n",
    "\n",
    "`docker pull altinsky/convai:deeppavlov`\n",
    "\n",
    "Run the container:\n",
    "\n",
    "`docker run -p 8888:8888 altinsky/convai:deeppavlov`\n",
    "\n",
    "Navigate to http://127.0.0.1:8888/ in your browser.\n",
    "\n",
    "To STOP the container run:\n",
    "\n",
    "`docker stop`"
   ]
  },
  {
   "cell_type": "markdown",
   "metadata": {},
   "source": [
    "# HelloBot"
   ]
  },
  {
   "cell_type": "markdown",
   "metadata": {},
   "source": [
    "In this part we will construct a simple bot that relies on pattern matching to perform a conversation."
   ]
  },
  {
   "cell_type": "code",
   "execution_count": null,
   "metadata": {
    "collapsed": true
   },
   "outputs": [],
   "source": [
    "from deeppavlov.skills.pattern_matching_skill import PatternMatchingSkill\n",
    "from deeppavlov.core.agent import Agent, HighestConfidenceSelector"
   ]
  },
  {
   "cell_type": "markdown",
   "metadata": {},
   "source": [
    "A pattern matching skill is the simplest example of Natural Language Understanding component. It will search defined patterns through the text. Let's define some simple patterns:"
   ]
  },
  {
   "cell_type": "code",
   "execution_count": null,
   "metadata": {
    "collapsed": false
   },
   "outputs": [],
   "source": [
    "hello = PatternMatchingSkill(responses=['Hello world! :)'], patterns=[\"hi\", \"hello\", \"good day\"])\n",
    "bye = PatternMatchingSkill(['Goodbye world! :(', 'See you around.'], [\"bye\", \"chao\", \"see you\"])\n",
    "fallback = PatternMatchingSkill([\"I don't understand, sorry :/\", 'I can say \"Hello world!\" 8)'])"
   ]
  },
  {
   "cell_type": "markdown",
   "metadata": {},
   "source": [
    "If you provide some patterns to the PatternMatchingSkill it will return confidence = 1 when the skill finds the pattern in given text. If no patterns is provided then confidence 0.5 will be returned in any case."
   ]
  },
  {
   "cell_type": "markdown",
   "metadata": {},
   "source": [
    "The skills are used in the `Agent` which can be treated as a Dialog Manager. The agent must be provided with skills and the selector of skills. A simple skill selector is the HighestConfidenceSelector which will pick the skill with highest confidence."
   ]
  },
  {
   "cell_type": "code",
   "execution_count": null,
   "metadata": {
    "collapsed": false
   },
   "outputs": [],
   "source": [
    "HelloBot = Agent([hello, bye, fallback], skills_selector=HighestConfidenceSelector())"
   ]
  },
  {
   "cell_type": "markdown",
   "metadata": {},
   "source": [
    "Since all processing in the library is performed on batches, we can pass a batch of requests to the bot. Let's try it out:"
   ]
  },
  {
   "cell_type": "code",
   "execution_count": null,
   "metadata": {
    "collapsed": false
   },
   "outputs": [],
   "source": [
    "HelloBot(['Hello!', 'Boo...', 'Bye.'])"
   ]
  },
  {
   "cell_type": "markdown",
   "metadata": {},
   "source": [
    "**Exercise** \n",
    "- create a WhatIsYourName skill\n",
    "- create new agent with this skill\n",
    "- check that all works fine"
   ]
  },
  {
   "cell_type": "code",
   "execution_count": null,
   "metadata": {
    "collapsed": true
   },
   "outputs": [],
   "source": [
    "name = # YOUR_CODE_HERE"
   ]
  }
 ],
 "metadata": {
  "kernelspec": {
   "display_name": "Python [Root]",
   "language": "python",
   "name": "Python [Root]"
  },
  "language_info": {
   "codemirror_mode": {
    "name": "ipython",
    "version": 2
   },
   "file_extension": ".py",
   "mimetype": "text/x-python",
   "name": "python",
   "nbconvert_exporter": "python",
   "pygments_lexer": "ipython2",
   "version": "2.7.12"
  }
 },
 "nbformat": 4,
 "nbformat_minor": 2
}
