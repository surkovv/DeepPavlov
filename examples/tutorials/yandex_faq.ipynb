{
 "cells": [
  {
   "cell_type": "markdown",
   "metadata": {},
   "source": [
    "# Tutorial on connecting DeepPavlov bot to Yandex.Alice\n",
    "In this tutorial we show how to develop a simple bot and connect it to Yandex.Alice. Our bot is able to greet, say goodbye, and answer questions based on an FAQ list. In our case we take typical questions of MIPT entrant as an example. This list consists of 15 questions with corresponding answers with manually generated 4-6 paraphrases for each question. More details on how to build bots with DeepPavlov can be found [here](https://medium.com/deeppavlov)."
   ]
  },
  {
   "cell_type": "markdown",
   "metadata": {},
   "source": [
    "## Requirements\n",
    "\n",
    "To connect your bot to Yandex.Alice you need to have a dedicated IP address. You also need to create an ssl certificate and a key (more details in corresponding section).\n",
    "\n",
    "First, create a virtual env with python3.6 (`source activate py36`). Then download DeepPavlov"
   ]
  },
  {
   "cell_type": "code",
   "execution_count": null,
   "metadata": {},
   "outputs": [],
   "source": [
    "!pip install deeppavlov"
   ]
  },
  {
   "cell_type": "markdown",
   "metadata": {},
   "source": [
    "## Implementation"
   ]
  },
  {
   "cell_type": "markdown",
   "metadata": {},
   "source": [
    "Create skills for greeting, saying goodbye, and fallback (in case a bot doesn't have an appropriate answer)."
   ]
  },
  {
   "cell_type": "code",
   "execution_count": 1,
   "metadata": {},
   "outputs": [],
   "source": [
    "from deeppavlov.skills.pattern_matching_skill import PatternMatchingSkill\n",
    "\n",
    "hello = PatternMatchingSkill(responses=['Привет!', 'Приветик', 'Здравствуйте', 'Добрый день'],\n",
    "\tpatterns=['Привет', 'Здравствуйте', 'Добрый день'])\n",
    "bye = PatternMatchingSkill(responses=['Пока!', 'До свидания, надеюсь смог вам помочь', 'До встречи!'],\n",
    "\tpatterns=['До свидания', 'Пока', 'Спасибо за помощь'])\n",
    "fallback = PatternMatchingSkill(responses=['Я не понял, но могу попробовать ответить на другой вопрос',\n",
    "\t'Я не понял, задайте другой вопрос'])"
   ]
  },
  {
   "cell_type": "markdown",
   "metadata": {},
   "source": [
    "Download '.csv' table with questions and answers"
   ]
  },
  {
   "cell_type": "code",
   "execution_count": 2,
   "metadata": {},
   "outputs": [
    {
     "data": {
      "text/html": [
       "<div>\n",
       "<style scoped>\n",
       "    .dataframe tbody tr th:only-of-type {\n",
       "        vertical-align: middle;\n",
       "    }\n",
       "\n",
       "    .dataframe tbody tr th {\n",
       "        vertical-align: top;\n",
       "    }\n",
       "\n",
       "    .dataframe thead th {\n",
       "        text-align: right;\n",
       "    }\n",
       "</style>\n",
       "<table border=\"1\" class=\"dataframe\">\n",
       "  <thead>\n",
       "    <tr style=\"text-align: right;\">\n",
       "      <th></th>\n",
       "      <th>Question</th>\n",
       "      <th>Answer</th>\n",
       "    </tr>\n",
       "  </thead>\n",
       "  <tbody>\n",
       "    <tr>\n",
       "      <th>0</th>\n",
       "      <td>Мы потеряли свой код регистрации, что нам делать?</td>\n",
       "      <td>Вы можете написать нам письмо на почту приемно...</td>\n",
       "    </tr>\n",
       "    <tr>\n",
       "      <th>1</th>\n",
       "      <td>Утерян код регистрации. Подскажите, что с этим...</td>\n",
       "      <td>Вы можете написать нам письмо на почту приемно...</td>\n",
       "    </tr>\n",
       "    <tr>\n",
       "      <th>2</th>\n",
       "      <td>Где взять код регистрации?</td>\n",
       "      <td>Вы можете написать нам письмо на почту приемно...</td>\n",
       "    </tr>\n",
       "    <tr>\n",
       "      <th>3</th>\n",
       "      <td>Я забыл код регистрации. Как его восстановить?</td>\n",
       "      <td>Вы можете написать нам письмо на почту приемно...</td>\n",
       "    </tr>\n",
       "    <tr>\n",
       "      <th>4</th>\n",
       "      <td>Как восстановить код регистрации?</td>\n",
       "      <td>Вы можете написать нам письмо на почту приемно...</td>\n",
       "    </tr>\n",
       "    <tr>\n",
       "      <th>5</th>\n",
       "      <td>При регистрации мы допустили ошибку, как нам п...</td>\n",
       "      <td>Некоторые данные можно поменять через личный к...</td>\n",
       "    </tr>\n",
       "    <tr>\n",
       "      <th>6</th>\n",
       "      <td>При регистрации была допущена ошибка. Я хотел ...</td>\n",
       "      <td>Некоторые данные можно поменять через личный к...</td>\n",
       "    </tr>\n",
       "    <tr>\n",
       "      <th>7</th>\n",
       "      <td>Нужно исправить даннные, что делать?</td>\n",
       "      <td>Некоторые данные можно поменять через личный к...</td>\n",
       "    </tr>\n",
       "    <tr>\n",
       "      <th>8</th>\n",
       "      <td>Я ошиблась в имени ребенка. Где можно его изме...</td>\n",
       "      <td>Некоторые данные можно поменять через личный к...</td>\n",
       "    </tr>\n",
       "    <tr>\n",
       "      <th>9</th>\n",
       "      <td>Как изменить регистрационные данные?</td>\n",
       "      <td>Некоторые данные можно поменять через личный к...</td>\n",
       "    </tr>\n",
       "  </tbody>\n",
       "</table>\n",
       "</div>"
      ],
      "text/plain": [
       "                                            Question  \\\n",
       "0  Мы потеряли свой код регистрации, что нам делать?   \n",
       "1  Утерян код регистрации. Подскажите, что с этим...   \n",
       "2                         Где взять код регистрации?   \n",
       "3     Я забыл код регистрации. Как его восстановить?   \n",
       "4                  Как восстановить код регистрации?   \n",
       "5  При регистрации мы допустили ошибку, как нам п...   \n",
       "6  При регистрации была допущена ошибка. Я хотел ...   \n",
       "7               Нужно исправить даннные, что делать?   \n",
       "8  Я ошиблась в имени ребенка. Где можно его изме...   \n",
       "9               Как изменить регистрационные данные?   \n",
       "\n",
       "                                              Answer  \n",
       "0  Вы можете написать нам письмо на почту приемно...  \n",
       "1  Вы можете написать нам письмо на почту приемно...  \n",
       "2  Вы можете написать нам письмо на почту приемно...  \n",
       "3  Вы можете написать нам письмо на почту приемно...  \n",
       "4  Вы можете написать нам письмо на почту приемно...  \n",
       "5  Некоторые данные можно поменять через личный к...  \n",
       "6  Некоторые данные можно поменять через личный к...  \n",
       "7  Некоторые данные можно поменять через личный к...  \n",
       "8  Некоторые данные можно поменять через личный к...  \n",
       "9  Некоторые данные можно поменять через личный к...  "
      ]
     },
     "execution_count": 2,
     "metadata": {},
     "output_type": "execute_result"
    }
   ],
   "source": [
    "import pandas as pd\n",
    "faq_table = pd.read_csv('http://files.deeppavlov.ai/faq/school/faq_school.csv')\n",
    "# You may also specify path to a local file instead of a link\n",
    "faq_table[:10]"
   ]
  },
  {
   "cell_type": "markdown",
   "metadata": {},
   "source": [
    "There is a skill, that can recognise users intent and respond with corresponding message. It's perfectly suitable for an FAQ task. It has following arguments:\n",
    "1. `data_path` - path/link to '.csv' table\n",
    "2. `x_col_name` - name of the questions column in the table\n",
    "3. `y_col_name` - name of the answers column in the table\n",
    "4. `edit_dict` - dict of edits in config file of skill\n",
    "5. `save_load_path` - path, where models will be saved or loaded from\n",
    "6. `train` - should model be trained or not"
   ]
  },
  {
   "cell_type": "code",
   "execution_count": 3,
   "metadata": {},
   "outputs": [
    {
     "name": "stderr",
     "output_type": "stream",
     "text": [
      "[nltk_data] Downloading package punkt to /Users/nv/nltk_data...\n",
      "[nltk_data]   Package punkt is already up-to-date!\n",
      "[nltk_data] Downloading package stopwords to /Users/nv/nltk_data...\n",
      "[nltk_data]   Package stopwords is already up-to-date!\n",
      "[nltk_data] Downloading package perluniprops to /Users/nv/nltk_data...\n",
      "[nltk_data]   Package perluniprops is already up-to-date!\n",
      "[nltk_data] Downloading package nonbreaking_prefixes to\n",
      "[nltk_data]     /Users/nv/nltk_data...\n",
      "[nltk_data]   Package nonbreaking_prefixes is already up-to-date!\n",
      "2019-01-22 13:17:02.941 INFO in 'pymorphy2.opencorpora_dict.wrapper'['wrapper'] at line 16: Loading dictionaries from /Users/nv/dp_dev/lib/python3.6/site-packages/pymorphy2_dicts-2.4.393442.3710985-py3.6.egg/pymorphy2_dicts/data\n",
      "2019-01-22 13:17:02.999 INFO in 'pymorphy2.opencorpora_dict.wrapper'['wrapper'] at line 20: format: 2.4, revision: 393442, updated: 2015-01-17T16:03:56.586168\n",
      "2019-01-22 13:17:03.8 INFO in 'deeppavlov.models.sklearn.sklearn_component'['sklearn_component'] at line 201: Loading model sklearn.feature_extraction.text:TfidfVectorizer from /Users/nv/Projects/DeepPavlov/examples/tutorials/faq_school/models/vectorizer/tfidf_vectorizer_ruwiki.pkl\n",
      "2019-01-22 13:17:03.10 INFO in 'deeppavlov.models.sklearn.sklearn_component'['sklearn_component'] at line 208: Model sklearn.feature_extraction.textTfidfVectorizer loaded  with parameters\n",
      "2019-01-22 13:17:03.11 WARNING in 'deeppavlov.models.sklearn.sklearn_component'['sklearn_component'] at line 214: Fitting of loaded model can not be continued. Model can be fitted from scratch.If one needs to continue fitting, please, look at `warm_start` parameter\n",
      "2019-01-22 13:17:03.97 INFO in 'deeppavlov.models.sklearn.sklearn_component'['sklearn_component'] at line 107: Fitting model sklearn.feature_extraction.textTfidfVectorizer\n",
      "2019-01-22 13:17:03.103 INFO in 'deeppavlov.models.sklearn.sklearn_component'['sklearn_component'] at line 239: Saving model to /Users/nv/Projects/DeepPavlov/examples/tutorials/faq_school/models/vectorizer/tfidf_vectorizer_ruwiki.pkl\n",
      "2019-01-22 13:17:03.121 INFO in 'deeppavlov.models.classifiers.cos_sim_classifier'['cos_sim_classifier'] at line 120: Saving faq_model to /Users/nv/Projects/DeepPavlov/examples/tutorials/faq_school/models/faq/tfidf_cos_sim_classifier.pkl\n",
      "2019-01-22 13:17:03.124 INFO in 'pymorphy2.opencorpora_dict.wrapper'['wrapper'] at line 16: Loading dictionaries from /Users/nv/dp_dev/lib/python3.6/site-packages/pymorphy2_dicts-2.4.393442.3710985-py3.6.egg/pymorphy2_dicts/data\n",
      "2019-01-22 13:17:03.187 INFO in 'pymorphy2.opencorpora_dict.wrapper'['wrapper'] at line 20: format: 2.4, revision: 393442, updated: 2015-01-17T16:03:56.586168\n",
      "2019-01-22 13:17:03.191 INFO in 'deeppavlov.models.sklearn.sklearn_component'['sklearn_component'] at line 201: Loading model sklearn.feature_extraction.text:TfidfVectorizer from /Users/nv/Projects/DeepPavlov/examples/tutorials/faq_school/models/vectorizer/tfidf_vectorizer_ruwiki.pkl\n",
      "2019-01-22 13:17:03.193 INFO in 'deeppavlov.models.sklearn.sklearn_component'['sklearn_component'] at line 208: Model sklearn.feature_extraction.textTfidfVectorizer loaded  with parameters\n",
      "2019-01-22 13:17:03.194 WARNING in 'deeppavlov.models.sklearn.sklearn_component'['sklearn_component'] at line 214: Fitting of loaded model can not be continued. Model can be fitted from scratch.If one needs to continue fitting, please, look at `warm_start` parameter\n",
      "2019-01-22 13:17:03.197 INFO in 'deeppavlov.models.classifiers.cos_sim_classifier'['cos_sim_classifier'] at line 125: Loading faq_model from /Users/nv/Projects/DeepPavlov/examples/tutorials/faq_school/models/faq/tfidf_cos_sim_classifier.pkl\n",
      "2019-01-22 13:17:03.199 INFO in 'deeppavlov.contrib.skills.similarity_matching_skill.similarity_matching_skill'['similarity_matching_skill'] at line 64: Your model was saved at: './faq_school'\n"
     ]
    }
   ],
   "source": [
    "from deeppavlov.contrib.skills.similarity_matching_skill import SimilarityMatchingSkill\n",
    "\n",
    "faq = SimilarityMatchingSkill(data_path='http://files.deeppavlov.ai/faq/school/faq_school.csv',\n",
    "                          x_col_name='Question', y_col_name='Answer',\n",
    "                          save_load_path='./faq_school', train=True)"
   ]
  },
  {
   "cell_type": "markdown",
   "metadata": {},
   "source": [
    "This line of code takes existing model and trains it with your data. Once you've trained your model, you can load it without trainig simply writing `faq = FAQSkill(load_path='./faq_doctor')`. In future tutorials you will learn, that `FAQSkill` is a simple wraper on config file, that describes NLP model for intent recognition, and if you want to have more controll under config file, you can pass other parameters, that you want to change in `edit_dict` argument. More information about config files you can find [here](http://docs.deeppavlov.ai/en/master/intro/config_description.html)."
   ]
  },
  {
   "cell_type": "markdown",
   "metadata": {},
   "source": [
    "The last step is to bring all skills together using Agent."
   ]
  },
  {
   "cell_type": "code",
   "execution_count": 4,
   "metadata": {},
   "outputs": [],
   "source": [
    "from deeppavlov.agents.default_agent.default_agent import DefaultAgent\n",
    "from deeppavlov.agents.processors.highest_confidence_selector import HighestConfidenceSelector\n",
    "\n",
    "agent = DefaultAgent([hello, bye, faq, fallback], skills_selector=HighestConfidenceSelector())"
   ]
  },
  {
   "cell_type": "markdown",
   "metadata": {},
   "source": [
    "Before connecting to Alice, check that everything works correctly. Agent is able to receive a list of messages."
   ]
  },
  {
   "cell_type": "code",
   "execution_count": 5,
   "metadata": {},
   "outputs": [
    {
     "name": "stdout",
     "output_type": "stream",
     "text": [
      "['Приветик', 'Вы можете написать нам письмо на почту приемной кампании, с адреса, который указали при регистрации или обратиться к нашим сотрудниками через Telegram и предоставить информацию, которая позволит идентифицировать вашего ребенка (ФИО, дата рождения и адрес электронной почты, указанный при регистрации).', 'Пока!', 'Я не понял, но могу попробовать ответить на другой вопрос']\n"
     ]
    },
    {
     "name": "stderr",
     "output_type": "stream",
     "text": [
      "/Users/nv/Projects/DeepPavlov/deeppavlov/models/classifiers/cos_sim_classifier.py:81: RuntimeWarning: invalid value encountered in true_divide\n",
      "  labels_scores = labels_scores/labels_scores.sum(axis=1, keepdims=True)\n"
     ]
    }
   ],
   "source": [
    "print(agent(['Привет', 'Потерял код регистрации', 'Пока', 'бла бла бла']))"
   ]
  },
  {
   "cell_type": "markdown",
   "metadata": {},
   "source": [
    "In order to connect to Alice we need an ssl key and a certificate. Replace `<MACHINE_IP_ADDRESS>` with actual IP address or a domain name of your server."
   ]
  },
  {
   "cell_type": "code",
   "execution_count": null,
   "metadata": {},
   "outputs": [],
   "source": [
    "!openssl req -new -newkey rsa:4096 -days 365 -nodes -x509 -subj \"/CN=<MACHINE_IP_ADDRESS>\" -keyout my.key -out my.crt"
   ]
  },
  {
   "cell_type": "code",
   "execution_count": null,
   "metadata": {},
   "outputs": [],
   "source": [
    "from utils.alice import start_agent_server\n",
    "\n",
    "start_agent_server(agent, host='0.0.0.0', port=5000, endpoint='/faq', ssl_key='my.key', ssl_cert='my.crt')"
   ]
  },
  {
   "cell_type": "markdown",
   "metadata": {},
   "source": [
    "Now you can specify webhook (`<MACHINE_IP_ADDRESS>:5000/faq`) in [Yandex.Alice skill settings](https://dialogs.yandex.ru/developer/) and test it!\n"
   ]
  },
  {
   "cell_type": "markdown",
   "metadata": {},
   "source": [
    "# Useful links\n",
    "\n",
    "[DeepPavlov repository](https://github.com/deepmipt/DeepPavlov)\n",
    "\n",
    "[DeepPavlov demo page](https://demo.ipavlov.ai)\n",
    "\n",
    "[DeepPavlov documentation](https://docs.deeppavlov.ai)\n",
    "\n",
    "[DeepPavlov blog](https://medium.com/deeppavlov)"
   ]
  },
  {
   "cell_type": "code",
   "execution_count": null,
   "metadata": {},
   "outputs": [],
   "source": []
  }
 ],
 "metadata": {
  "kernelspec": {
   "display_name": "Python 3",
   "language": "python",
   "name": "python3"
  },
  "language_info": {
   "codemirror_mode": {
    "name": "ipython",
    "version": 3
   },
   "file_extension": ".py",
   "mimetype": "text/x-python",
   "name": "python",
   "nbconvert_exporter": "python",
   "pygments_lexer": "ipython3",
   "version": "3.6.7"
  }
 },
 "nbformat": 4,
 "nbformat_minor": 2
}
