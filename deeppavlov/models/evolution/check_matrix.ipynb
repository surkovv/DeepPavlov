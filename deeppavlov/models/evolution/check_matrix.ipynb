{
 "cells": [
  {
   "cell_type": "code",
   "execution_count": 1,
   "metadata": {},
   "outputs": [],
   "source": [
    "import numpy as np\n",
    "import matplotlib.pyplot as plt\n",
    "import networkx as nx\n",
    "from check_binary_mask import check_binary_mask\n",
    "from check_binary_mask import number_to_type_layer\n",
    "from check_binary_mask import type_layer_to_number"
   ]
  },
  {
   "cell_type": "code",
   "execution_count": 2,
   "metadata": {},
   "outputs": [],
   "source": [
    "T = 3\n",
    "L = 2\n",
    "total_nodes = T * L\n",
    "\n",
    "nodes = {}\n",
    "types = {0: \"Dense\", 1: \"Conv1D\", \n",
    "         2: \"LSTM\", 3: \"BiLSTM\", 4: \"GlobMaxPool1D\", \n",
    "         5: \"MaxPool1D\",  6: \"Attention\"}\n",
    "\n",
    "for i in range(0, total_nodes):\n",
    "    nodes[i] = types[number_to_type_layer(i, T)[1]]"
   ]
  },
  {
   "cell_type": "code",
   "execution_count": 3,
   "metadata": {},
   "outputs": [
    {
     "data": {
      "image/png": "[encoded data removed]",
      "text/plain": [
       "<Figure size 432x432 with 1 Axes>"
      ]
     },
     "metadata": {},
     "output_type": "display_data"
    }
   ],
   "source": [
    "cm = np.zeros((total_nodes, total_nodes)) \n",
    "cm[0, 1] = 1\n",
    "cm[0, 3] = 1\n",
    "cm[3, 1] = 1\n",
    "cm[3, 5] = 1\n",
    "cm[5, 2] = 1\n",
    "\n",
    "dg = nx.DiGraph()\n",
    "\n",
    "for i in range(total_nodes):\n",
    "    dg.add_node(i)\n",
    "    \n",
    "pos = {}\n",
    "\n",
    "for i in range(total_nodes):\n",
    "    for j in range(total_nodes):\n",
    "        if cm[i,j] == 1:\n",
    "            dg.add_edge(i, j)\n",
    "#     pos[i] = 5 * np.array(number_to_type_layer(i, L, T))\n",
    "    pos[i] = np.array(number_to_type_layer(i,  T))[::-1]\n",
    "\n",
    "plt.figure(figsize=(6, 6))\n",
    "nx.draw(dg, pos, node_color='b', node_size=5000, alpha=0.3)\n",
    "\n",
    "nx.draw_networkx_labels(dg, pos, nodes, font_size=18)\n",
    "plt.show()"
   ]
  },
  {
   "cell_type": "code",
   "execution_count": null,
   "metadata": {},
   "outputs": [],
   "source": [
    "check_binary_mask(nodes, cm)"
   ]
  },
  {
   "cell_type": "code",
   "execution_count": null,
   "metadata": {},
   "outputs": [],
   "source": [
    "def get_graph_and_plot(nodes, cm):\n",
    "    total_nodes = len(nodes)\n",
    "    dg = nx.DiGraph()\n",
    "\n",
    "    for i in range(total_nodes):\n",
    "        dg.add_node(i)\n",
    "\n",
    "    pos = {}\n",
    "\n",
    "    for i in range(total_nodes):\n",
    "        for j in range(total_nodes):\n",
    "            if cm[i,j] == 1:\n",
    "                dg.add_edge(i, j)\n",
    "    #     pos[i] = 5 * np.array(number_to_type_layer(i, L, T))\n",
    "        pos[i] = np.array(number_to_type_layer(i, T))[::-1]\n",
    "\n",
    "    plt.figure(figsize=(6, 6))\n",
    "    nx.draw(dg, pos, node_color='b', node_size=5000, alpha=0.3)\n",
    "\n",
    "    nx.draw_networkx_labels(dg, pos, nodes, font_size=18)\n",
    "    plt.show()"
   ]
  },
  {
   "cell_type": "code",
   "execution_count": null,
   "metadata": {},
   "outputs": [],
   "source": [
    "cm = np.zeros((total_nodes, total_nodes)) \n",
    "cm[0, 1] = 1\n",
    "cm[0, 3] = 1\n",
    "cm[3, 1] = 1\n",
    "cm[3, 5] = 1\n",
    "cm[5, 2] = 1\n",
    "cm[5, 3] = 1\n",
    "\n",
    "get_graph_and_plot(nodes, cm)\n",
    "_, new_cm = check_binary_mask(nodes, cm)\n",
    "get_graph_and_plot(nodes, new_cm)"
   ]
  },
  {
   "cell_type": "code",
   "execution_count": null,
   "metadata": {},
   "outputs": [],
   "source": []
  },
  {
   "cell_type": "code",
   "execution_count": null,
   "metadata": {},
   "outputs": [],
   "source": [
    "dg = nx.DiGraph()"
   ]
  },
  {
   "cell_type": "code",
   "execution_count": null,
   "metadata": {},
   "outputs": [],
   "source": [
    "for i in range(6):\n",
    "    dg.add_node(i)"
   ]
  },
  {
   "cell_type": "code",
   "execution_count": null,
   "metadata": {},
   "outputs": [],
   "source": [
    "dg.add_edge(0, 1)\n",
    "dg.add_edge(0, 3)\n",
    "dg.add_edge(3, 1)\n",
    "dg.add_edge(5, 2)\n",
    "dg.add_edge(3, 5)\n",
    "dg.add_edge(5, 3)"
   ]
  },
  {
   "cell_type": "code",
   "execution_count": null,
   "metadata": {},
   "outputs": [],
   "source": [
    "dg.edges()"
   ]
  },
  {
   "cell_type": "code",
   "execution_count": null,
   "metadata": {},
   "outputs": [],
   "source": [
    "dg.remove_edge(3, 5)"
   ]
  },
  {
   "cell_type": "code",
   "execution_count": null,
   "metadata": {},
   "outputs": [],
   "source": [
    "dg.edges()"
   ]
  },
  {
   "cell_type": "code",
   "execution_count": null,
   "metadata": {},
   "outputs": [],
   "source": []
  }
 ],
 "metadata": {
  "kernelspec": {
   "display_name": "py36_main_kernel",
   "language": "python",
   "name": "py36_main"
  },
  "language_info": {
   "codemirror_mode": {
    "name": "ipython",
    "version": 3
   },
   "file_extension": ".py",
   "mimetype": "text/x-python",
   "name": "python",
   "nbconvert_exporter": "python",
   "pygments_lexer": "ipython3",
   "version": "3.6.5"
  }
 },
 "nbformat": 4,
 "nbformat_minor": 2
}
