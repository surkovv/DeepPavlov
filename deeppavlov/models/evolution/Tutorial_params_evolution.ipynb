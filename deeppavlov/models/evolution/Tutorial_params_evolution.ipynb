{
 "cells": [
  {
   "cell_type": "markdown",
   "metadata": {},
   "source": [
    "# How to use evolution of model parameters in DeepPavlov"
   ]
  },
  {
   "cell_type": "markdown",
   "metadata": {},
   "source": [
    "* Скопируйте в новый файл свой обычный конфиг, соответствующий рассматриваемой модели.\n",
    "\n",
    "* Для каждого параметра, который можно варьировать, в конфиге замените значение параметра на словарь, определяющий возможные принимаемые значения. Тренировочные параметры (из `config[\"train\"]`) варьируются автоматически, а для варьирования параметров модели необходимо определить тот подсловарь конфига, в котором находятся варьируемые параметры, добавив в него параметр `\"to_evolve\": true`. Варьируемые параметры должны быть ключами словаря, содержащего ключ `to_evolve`, вложенность пока не поддерживается.\n",
    "\n",
    "* Запустите эволюцию с необходимыми параметрами:\n",
    "    - config - путь к файлу конфигу для эволюции\n",
    "    - evolve_metric - зарегистрированное название метрики из тренировочных параметров конфига, по значениям которой будет происходить эволюция\n",
    "    - p_size - размер одной популяции\n",
    "    - gpus - номера gpu, доступных для использования. Если количество gpu меньше размера популяции, то модели будут запускаться группами по len(gpus) штук.\n",
    "```\n",
    "python ./models/evolution/run_param_evolution.py --config config_file \n",
    "                        --evolve_metric registered_metric_from_config \n",
    "                        --p_size 10\n",
    "                        --gpus 0,1,2\n",
    "```"
   ]
  },
  {
   "cell_type": "markdown",
   "metadata": {},
   "source": [
    "### Примеры словаря возможных значений для различных видов параметров"
   ]
  },
  {
   "cell_type": "code",
   "execution_count": 18,
   "metadata": {
    "collapsed": true
   },
   "outputs": [],
   "source": [
    "import json\n",
    "\n",
    "def print_json(dictionary):\n",
    "    print(json.dumps(dictionary, indent=2))"
   ]
  },
  {
   "cell_type": "code",
   "execution_count": 19,
   "metadata": {
    "collapsed": true
   },
   "outputs": [],
   "source": [
    "config = {\"dense_size\": 100, \n",
    "          \"activation\": \"sigmoid\", \n",
    "          \"learning_rate\": 0.001, \n",
    "          \"learning_rate_decay\": 0.00001,\n",
    "          \"is_main\": True}"
   ]
  },
  {
   "cell_type": "code",
   "execution_count": 20,
   "metadata": {},
   "outputs": [
    {
     "name": "stdout",
     "output_type": "stream",
     "text": [
      "{\n",
      "  \"dense_size\": 100,\n",
      "  \"activation\": \"sigmoid\",\n",
      "  \"learning_rate\": 0.001,\n",
      "  \"learning_rate_decay\": 1e-05,\n",
      "  \"is_main\": true\n",
      "}\n"
     ]
    }
   ],
   "source": [
    "print_json(config)"
   ]
  },
  {
   "cell_type": "markdown",
   "metadata": {},
   "source": [
    "#### Дискретный параметр из промежутка"
   ]
  },
  {
   "cell_type": "code",
   "execution_count": 21,
   "metadata": {},
   "outputs": [
    {
     "name": "stdout",
     "output_type": "stream",
     "text": [
      "{\n",
      "  \"range\": [\n",
      "    50,\n",
      "    500\n",
      "  ],\n",
      "  \"discrete\": true\n",
      "}\n"
     ]
    }
   ],
   "source": [
    "config[\"dense_size\"] = {\"range\": [50, 500], \"discrete\": True}\n",
    "print_json(config[\"dense_size\"])"
   ]
  },
  {
   "cell_type": "markdown",
   "metadata": {},
   "source": [
    "#### Дискретный параметр из листа возможных значений"
   ]
  },
  {
   "cell_type": "code",
   "execution_count": 22,
   "metadata": {},
   "outputs": [
    {
     "name": "stdout",
     "output_type": "stream",
     "text": [
      "{\n",
      "  \"values\": [\n",
      "    \"softmax\",\n",
      "    \"sigmoid\",\n",
      "    \"relu\"\n",
      "  ],\n",
      "  \"choice\": true\n",
      "}\n"
     ]
    }
   ],
   "source": [
    "config[\"activation\"] =  {\"values\": [\"softmax\", \"sigmoid\", \"relu\"], \"choice\": True}\n",
    "print_json(config[\"activation\"])"
   ]
  },
  {
   "cell_type": "markdown",
   "metadata": {},
   "source": [
    "#### Параметр из промежутка"
   ]
  },
  {
   "cell_type": "code",
   "execution_count": 23,
   "metadata": {},
   "outputs": [
    {
     "name": "stdout",
     "output_type": "stream",
     "text": [
      "{\n",
      "  \"range\": [\n",
      "    0.001,\n",
      "    0.1\n",
      "  ]\n",
      "}\n"
     ]
    }
   ],
   "source": [
    "config[\"learning_rate\"] = {\"range\": [0.001, 0.1]}\n",
    "print_json(config[\"learning_rate\"])"
   ]
  },
  {
   "cell_type": "markdown",
   "metadata": {},
   "source": [
    "#### Параметр из промежутка с логарифмической шкалой"
   ]
  },
  {
   "cell_type": "code",
   "execution_count": 24,
   "metadata": {},
   "outputs": [
    {
     "name": "stdout",
     "output_type": "stream",
     "text": [
      "{\n",
      "  \"range\": [\n",
      "    1e-05,\n",
      "    0.0001\n",
      "  ],\n",
      "  \"scale\": \"log\"\n",
      "}\n"
     ]
    }
   ],
   "source": [
    "config[\"learning_rate_decay\"] = {\"range\": [0.00001, 0.0001], \"scale\": \"log\"}\n",
    "print_json(config[\"learning_rate_decay\"])"
   ]
  },
  {
   "cell_type": "markdown",
   "metadata": {},
   "source": [
    "####  Булевый параметр"
   ]
  },
  {
   "cell_type": "code",
   "execution_count": 25,
   "metadata": {},
   "outputs": [
    {
     "name": "stdout",
     "output_type": "stream",
     "text": [
      "{\n",
      "  \"bool\": true\n",
      "}\n"
     ]
    }
   ],
   "source": [
    "config[\"is_main\"] = {\"bool\": True}\n",
    "print_json(config[\"is_main\"])"
   ]
  },
  {
   "cell_type": "markdown",
   "metadata": {},
   "source": [
    "### Therefore, evolving parameters can be written in DeepPavlov config in the following way"
   ]
  },
  {
   "cell_type": "code",
   "execution_count": 27,
   "metadata": {},
   "outputs": [
    {
     "name": "stdout",
     "output_type": "stream",
     "text": [
      "{\n",
      "  \"dense_size\": {\n",
      "    \"range\": [\n",
      "      50,\n",
      "      500\n",
      "    ],\n",
      "    \"discrete\": true\n",
      "  },\n",
      "  \"activation\": {\n",
      "    \"values\": [\n",
      "      \"softmax\",\n",
      "      \"sigmoid\",\n",
      "      \"relu\"\n",
      "    ],\n",
      "    \"choice\": true\n",
      "  },\n",
      "  \"learning_rate\": {\n",
      "    \"range\": [\n",
      "      0.001,\n",
      "      0.1\n",
      "    ]\n",
      "  },\n",
      "  \"learning_rate_decay\": {\n",
      "    \"range\": [\n",
      "      1e-05,\n",
      "      0.0001\n",
      "    ],\n",
      "    \"scale\": \"log\"\n",
      "  },\n",
      "  \"is_main\": {\n",
      "    \"bool\": true\n",
      "  }\n",
      "}\n"
     ]
    }
   ],
   "source": [
    "print_json(config)"
   ]
  },
  {
   "cell_type": "code",
   "execution_count": null,
   "metadata": {
    "collapsed": true
   },
   "outputs": [],
   "source": []
  }
 ],
 "metadata": {
  "kernelspec": {
   "display_name": "Python-deep36",
   "language": "python",
   "name": "deep36"
  },
  "language_info": {
   "codemirror_mode": {
    "name": "ipython",
    "version": 3
   },
   "file_extension": ".py",
   "mimetype": "text/x-python",
   "name": "python",
   "nbconvert_exporter": "python",
   "pygments_lexer": "ipython3",
   "version": "3.6.5"
  }
 },
 "nbformat": 4,
 "nbformat_minor": 2
}
